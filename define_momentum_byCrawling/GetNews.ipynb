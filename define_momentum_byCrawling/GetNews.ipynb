{
 "cells": [
  {
   "cell_type": "markdown",
   "id": "58157bc5",
   "metadata": {},
   "source": [
    "# Selenium 이용한 동적 크롤링"
   ]
  },
  {
   "cell_type": "code",
   "execution_count": 7,
   "id": "c98a70ed",
   "metadata": {
    "ExecuteTime": {
     "end_time": "2023-01-13T16:34:54.018619Z",
     "start_time": "2023-01-13T16:34:22.511162Z"
    },
    "scrolled": true
   },
   "outputs": [
    {
     "name": "stderr",
     "output_type": "stream",
     "text": [
      "C:\\Users\\Hi\\AppData\\Local\\Temp\\ipykernel_1404\\1057774138.py:15: DeprecationWarning: executable_path has been deprecated, please pass in a Service object\n",
      "  driver = webdriver.Chrome('chromedriver.exe', options=options)\n"
     ]
    },
    {
     "name": "stdout",
     "output_type": "stream",
     "text": [
      "page1 try page1 ok , table count : 11\n",
      "page2 try page2 ok , table count : 11\n",
      "page3 try page3 ok , table count : 10\n",
      "page4 try page4 ok , table count : 11\n",
      "page5 try page5 ok , table count : 11\n",
      "page6 try page6 ok , table count : 11\n",
      "page7 try page7 ok , table count : 10\n",
      "page8 try page8 ok , table count : 11\n",
      "page9 try page9 ok , table count : 11\n",
      "page10 try page10 ok , table count : 11\n",
      "page11 try page11 ok , table count : 11\n",
      "page12 try page12 ok , table count : 11\n",
      "page13 try page13 ok , table count : 11\n",
      "page14 try page14 ok , table count : 11\n",
      "page15 try page15 ok , table count : 11\n",
      "page16 try page16 ok , table count : 7\n",
      "page17 try avg table per page : 9.625\n"
     ]
    }
   ],
   "source": [
    "from selenium.webdriver.common.by import By\n",
    "from selenium import webdriver\n",
    "import sys\n",
    "import time\n",
    "import warnings\n",
    "warnings.filterwarnings('ignore')\n",
    "\n",
    "# # 옵션 생성\n",
    "options = webdriver.ChromeOptions()\n",
    "# # 창 숨기는 옵션 추가\n",
    "options.add_argument(\"headless\")\n",
    "#지정한 user-agent로 설정합니다.\n",
    "user_agent = \"Mozilla/5.0 (Windows NT 10.0; Win64; x64) AppleWebKit/537.36 (KHTML, like Gecko) Chrome/109.0.0.0 Safari/537.36\"\n",
    "options.add_argument('user-agent=' + user_agent)\n",
    "\n",
    "# 드라이버 열기\n",
    "driver = webdriver.Chrome('chromedriver.exe', options=options)\n",
    "# driver = webdriver.Chrome('chromedriver.exe')\n",
    "\n",
    "\n",
    "# 구글에 삼성전자 검색 -> 뉴스 -> 지난 1개월\n",
    "url = 'https://www.google.com/search?q=%EC%82%BC%EC%84%B1%EC%A0%84%EC%9E%90&tbm=nws&sxsrf=AJOqlzUEJoq0SuwDJ75imZRaB1y76Pq-rg:1673621191460&source=lnt&tbs=qdr:m&sa=X&ved=2ahUKEwim2-vk5MT8AhVYMXAKHfPbABAQpwV6BAgBEBw&biw=1280&bih=609&dpr=1.5'\n",
    "driver.get(url)\n",
    "\n",
    "# 검색창 지우기 \n",
    "driver.find_element(By.CLASS_NAME, 'gLFyf').clear()\n",
    "\n",
    "# 검색창에 검색어 입력하기\n",
    "search_item = \"카카오\"\n",
    "driver.find_element(By.CLASS_NAME, 'gLFyf').send_keys(search_item)\n",
    "\n",
    "# 클릭하기\n",
    "driver.find_element(By.CLASS_NAME, 'Tg7LZd').click()\n",
    "\n",
    "# 뉴스 제목 가져오기\n",
    "# for i in range(1, 11):\n",
    "#     xpath = f'//*[@id=\"rso\"]/div/div/div[{i}]/div/div/a/div/div[2]/div[2]'\n",
    "#     text = driver.find_element(By.XPATH, xpath).text\n",
    "#     print(text)\n",
    "    \n",
    "# 다음 페이지 클릭 \n",
    "page = 4\n",
    "xpath = f'//*[@id=\"botstuff\"]/div/div[2]/table/tbody/tr/td[{page+1}]/a'\n",
    "driver.find_element(By.XPATH, xpath).click()\n",
    "\n",
    "# 총 페이지 개수랑 , 한 페이지당 기사 개수를 알 수가 없어서 while + try-except 문으로 처리했다. \n",
    "#  1페이지부터 끝 페이지까지 제목 쭉 불러오기\n",
    "# 12페이지 넘어가면 13으로 고정됨. \n",
    "titles = []\n",
    "page = 1\n",
    "is_final = True\n",
    "\n",
    "while True:\n",
    "    try:\n",
    "        print(f\"page{page} try\", end=' ')\n",
    "        try:\n",
    "            if page <= 12:\n",
    "                xpath = f'//*[@id=\"botstuff\"]/div/div[2]/table/tbody/tr/td[{page+1}]/a'\n",
    "                driver.find_element(By.XPATH, xpath).click()\n",
    "            else: \n",
    "                # 12페이지 넘어가면 xpath 고정됨\n",
    "                xpath = f'//*[@id=\"botstuff\"]/div/div[2]/table/tbody/tr/td[{13}]/a'\n",
    "                driver.find_element(By.XPATH, xpath).click()\n",
    "        except:\n",
    "            sys.exit() # 마지막 페이지 넘어가면 완전히 종료 \n",
    "            \n",
    "        table_count = 1\n",
    "        while True:\n",
    "            try:\n",
    "                xpath = f'//*[@id=\"rso\"]/div/div/div[{table_count}]/div/div/a/div/div[2]/div[2]'\n",
    "                text = driver.find_element(By.XPATH, xpath).text\n",
    "                titles.append(text)\n",
    "                table_count += 1\n",
    "            except:\n",
    "                break\n",
    "        if table_count > 1:\n",
    "            print(f\"page{page} ok , table count : {table_count}\")\n",
    "        else:\n",
    "            print(f\"page{page} not ok\")\n",
    "        page += 1\n",
    "        \n",
    "        time.sleep(0.5)\n",
    "        \n",
    "    except:\n",
    "        break\n",
    "        \n",
    "print(f\"avg table per page : {len(titles) / (page - 1)}\")\n",
    "\n",
    "# 창 종료.\n",
    "driver.quit()"
   ]
  },
  {
   "cell_type": "code",
   "execution_count": 21,
   "id": "c1074595",
   "metadata": {
    "ExecuteTime": {
     "end_time": "2023-01-13T16:43:43.837088Z",
     "start_time": "2023-01-13T16:43:43.823088Z"
    }
   },
   "outputs": [],
   "source": [
    "# 함수화 , 최근 한 달간의 제목을 가져오는 함수\n",
    "\n",
    "from selenium.webdriver.common.by import By\n",
    "from selenium import webdriver\n",
    "import sys\n",
    "import time\n",
    "import warnings\n",
    "warnings.filterwarnings('ignore')\n",
    "\n",
    "def get_titles_recent30(stock_name, verbose1=True, verbose2=True): \n",
    "    \"\"\"\n",
    "    stock_name : 검색할 종목 이름 -> Str,\n",
    "    verbose1 : 개별 페이지 결과를 출력할지 여부 -> Bool,\n",
    "    verboss2 : 결과를 출력할지 여부 ->  Bool,\n",
    "    return : 최근 한 달간 제목 리스트 -> List.\n",
    "    \"\"\"\n",
    "    # # 옵션 생성\n",
    "    options = webdriver.ChromeOptions()\n",
    "    # # 창 숨기는 옵션 추가\n",
    "    options.add_argument(\"headless\")\n",
    "    #지정한 user-agent로 설정합니다.\n",
    "    user_agent = \"Mozilla/5.0 (Windows NT 10.0; Win64; x64) AppleWebKit/537.36 (KHTML, like Gecko) Chrome/109.0.0.0 Safari/537.36\"\n",
    "    options.add_argument('user-agent=' + user_agent)\n",
    "\n",
    "    # 드라이버 열기\n",
    "    driver = webdriver.Chrome('chromedriver.exe', options=options)\n",
    "    # driver = webdriver.Chrome('chromedriver.exe')\n",
    "\n",
    "\n",
    "    # 구글에 삼성전자 검색 -> 뉴스 -> 지난 1개월\n",
    "    url = 'https://www.google.com/search?q=%EC%82%BC%EC%84%B1%EC%A0%84%EC%9E%90&tbm=nws&sxsrf=AJOqlzUEJoq0SuwDJ75imZRaB1y76Pq-rg:1673621191460&source=lnt&tbs=qdr:m&sa=X&ved=2ahUKEwim2-vk5MT8AhVYMXAKHfPbABAQpwV6BAgBEBw&biw=1280&bih=609&dpr=1.5'\n",
    "    driver.get(url)\n",
    "\n",
    "    # 검색창 지우기 \n",
    "    driver.find_element(By.CLASS_NAME, 'gLFyf').clear()\n",
    "\n",
    "    # 검색창에 검색어 입력하기\n",
    "    search_item = stock_name\n",
    "    driver.find_element(By.CLASS_NAME, 'gLFyf').send_keys(search_item)\n",
    "\n",
    "    # 클릭하기\n",
    "    driver.find_element(By.CLASS_NAME, 'Tg7LZd').click()\n",
    "\n",
    "    # 뉴스 제목 가져오기\n",
    "    # for i in range(1, 11):\n",
    "    #     xpath = f'//*[@id=\"rso\"]/div/div/div[{i}]/div/div/a/div/div[2]/div[2]'\n",
    "    #     text = driver.find_element(By.XPATH, xpath).text\n",
    "    #     print(text)\n",
    "\n",
    "    # 다음 페이지 클릭 \n",
    "    page = 4\n",
    "    xpath = f'//*[@id=\"botstuff\"]/div/div[2]/table/tbody/tr/td[{page+1}]/a'\n",
    "    driver.find_element(By.XPATH, xpath).click()\n",
    "\n",
    "    # 총 페이지 개수랑 , 한 페이지당 기사 개수를 알 수가 없어서 while + try-except 문으로 처리했다. \n",
    "    #  1페이지부터 끝 페이지까지 제목 쭉 불러오기\n",
    "    # 12페이지 넘어가면 13으로 고정됨. \n",
    "    titles = []\n",
    "    page = 1\n",
    "    is_final = True\n",
    "\n",
    "    while True:\n",
    "        try:\n",
    "            if verbose1:\n",
    "                print(f\"page{page} try\", end=' ')\n",
    "                \n",
    "            try:\n",
    "                if page <= 12:\n",
    "                    xpath = f'//*[@id=\"botstuff\"]/div/div[2]/table/tbody/tr/td[{page+1}]/a'\n",
    "                    driver.find_element(By.XPATH, xpath).click()\n",
    "                else: \n",
    "                    # 12페이지 넘어가면 xpath 고정됨\n",
    "                    xpath = f'//*[@id=\"botstuff\"]/div/div[2]/table/tbody/tr/td[{13}]/a'\n",
    "                    driver.find_element(By.XPATH, xpath).click()\n",
    "            except:\n",
    "                sys.exit() # 마지막 페이지 넘어가면 완전히 종료 \n",
    "\n",
    "            table_count = 1\n",
    "            while True:\n",
    "                try:\n",
    "                    xpath = f'//*[@id=\"rso\"]/div/div/div[{table_count}]/div/div/a/div/div[2]/div[2]'\n",
    "                    text = driver.find_element(By.XPATH, xpath).text\n",
    "                    titles.append(text)\n",
    "                    table_count += 1\n",
    "                except:\n",
    "                    break\n",
    "            if verbose1:\n",
    "                if table_count > 1:\n",
    "                    print(f\"page{page} ok , table count : {table_count}\")\n",
    "                else:\n",
    "                    print(f\"page{page} not ok\")\n",
    "            page += 1\n",
    "\n",
    "            time.sleep(0.5)\n",
    "\n",
    "        except:\n",
    "            break\n",
    "            \n",
    "    if verbose2:\n",
    "        print(f\"avg table per page : {len(titles) / (page - 1)}\")\n",
    "\n",
    "    # 창 종료.\n",
    "    driver.quit()\n",
    "    \n",
    "    return titles"
   ]
  },
  {
   "cell_type": "code",
   "execution_count": 22,
   "id": "6711a56c",
   "metadata": {
    "ExecuteTime": {
     "end_time": "2023-01-13T16:43:45.863092Z",
     "start_time": "2023-01-13T16:43:45.854066Z"
    }
   },
   "outputs": [],
   "source": [
    "?get_titles_recent30"
   ]
  },
  {
   "cell_type": "code",
   "execution_count": 24,
   "id": "b1b2adb1",
   "metadata": {
    "ExecuteTime": {
     "end_time": "2023-01-13T16:44:25.542172Z",
     "start_time": "2023-01-13T16:43:53.005172Z"
    }
   },
   "outputs": [
    {
     "name": "stdout",
     "output_type": "stream",
     "text": [
      "avg table per page : 9.75\n"
     ]
    }
   ],
   "source": [
    "title_kakao = get_titles_recent30('카카오', verbose1=False, verbose2=True)\n",
    "# 종목당 30초정도 걸리네. "
   ]
  },
  {
   "cell_type": "markdown",
   "id": "3147c756",
   "metadata": {},
   "source": [
    "# rss_feedparser을 이용한 뉴스 크롤링"
   ]
  },
  {
   "cell_type": "code",
   "execution_count": 30,
   "id": "dae4b34e",
   "metadata": {
    "ExecuteTime": {
     "end_time": "2023-01-13T17:53:48.152700Z",
     "start_time": "2023-01-13T17:53:48.143703Z"
    }
   },
   "outputs": [],
   "source": [
    "import feedparser\n",
    "\n",
    "def get_titles_by_ssl(start, end, search_name, verbose1=True, verbose2=True):\n",
    "    \"\"\"\n",
    "    start : 데이터를 조회할 시작 날짜 -> Str (ex:2022-06-01),\n",
    "    end : 데이터를 조회할 마지막 날짜 -> Str (ex:2022-10-31),\n",
    "    search_name  : 검색할 이름 -> Str, \n",
    "    verbose1 : 과정을 출력할지 여부 -> Bool,\n",
    "    verbose2 : 결과를 출력할지 여부 -> Bool,\n",
    "    return : 뉴스 제목 리스트 -> List\n",
    "    \"\"\"\n",
    "\n",
    "    ssl_url = f'https://news.google.com/news?hl=ko&gl=kr&ie=UTF-8&q={search_name}+after:{start}+before:{end}&output=rss'\n",
    "\n",
    "    parse_res = feedparser.parse(ssl_url)\n",
    "\n",
    "    titles = []\n",
    "    \n",
    "    for p in parse_res.entries:\n",
    "        if verbose1:\n",
    "            print(p.title)\n",
    "        titles.append(p.title)\n",
    "        \n",
    "    if verbose2:\n",
    "        print(len(titles))\n",
    "    return titles"
   ]
  },
  {
   "cell_type": "code",
   "execution_count": 31,
   "id": "af7f740c",
   "metadata": {
    "ExecuteTime": {
     "end_time": "2023-01-13T17:53:48.880993Z",
     "start_time": "2023-01-13T17:53:48.874994Z"
    }
   },
   "outputs": [],
   "source": [
    "?get_titles_by_ssl"
   ]
  },
  {
   "cell_type": "code",
   "execution_count": 32,
   "id": "0e0835ac",
   "metadata": {
    "ExecuteTime": {
     "end_time": "2023-01-13T17:53:56.526840Z",
     "start_time": "2023-01-13T17:53:55.781951Z"
    }
   },
   "outputs": [
    {
     "name": "stdout",
     "output_type": "stream",
     "text": [
      "100\n"
     ]
    }
   ],
   "source": [
    "kakao_titles = get_titles_by_ssl(start='2022-01-01', end='2022-10-31', search_name='카카오', verbose1=False, verbose2=True)"
   ]
  },
  {
   "cell_type": "code",
   "execution_count": 34,
   "id": "fc6fbf52",
   "metadata": {
    "ExecuteTime": {
     "end_time": "2023-01-13T17:54:29.303017Z",
     "start_time": "2023-01-13T17:54:29.289019Z"
    }
   },
   "outputs": [
    {
     "data": {
      "text/plain": [
       "['카카오톡·버스·지하철·페이지·티…단번에 끊겼다 - 한겨레',\n",
       " \"'카카오 화재' 보상 방안은 어떻게 되나? - BBC News 코리아\",\n",
       " '‘복구중’ 카카오, 톡으로 상황 공유…앱 다운 1위는 ‘라인’ - 서울신문',\n",
       " \"카카오엔터, 작가 정산 확인 사이트 '파트너 포털' 정식 운영 - 뉴스저널리즘\",\n",
       " '[영상] 카카오 “무료 이용자도 보상…SK C&C와 잘잘못 안 따질 것” - 한겨레',\n",
       " '카카오뱅크 주가 추락에 우리사주 “신불자 위기” 호소 - 뉴스저널리즘',\n",
       " '[속보] 카카오톡 오류…다음·카카오T 등 카카오서비스 동시 마비 - 서울신문',\n",
       " '카톡 장애 원인은 \\'내부 시스템 오류\\'…카카오 측 \"현재 모두 정상화\" - 위키리크스한국',\n",
       " \"카카오 대란…손실보전 피해 간 독점 플랫폼에 '사회적 책임' 묻는다 - 한겨레\",\n",
       " '창업 시절 배고픔 잊고, 거만해진 카카오 - 아틀라스뉴스',\n",
       " \"2년 전 '카카오 먹통 방지법안', 누가 왜 막았나 - 한겨레\",\n",
       " \"네이버·카카오 주가 '반토막'…올해 시가총액 63조 증발 - 한겨레\",\n",
       " '카카오 무료 이용자 보상은 어쩌나 [선한결의 IT포커스] - 한국경제',\n",
       " \"카카오, 2주 만에 구글에 '백기'…카톡 '결제 아웃링크' 뺀다 - 한겨레\",\n",
       " '카카오, 점유율 98% 카톡 앞세워 사업 확장… “독점 폐해 낳아” - 동아일보',\n",
       " '카카오 먹통 사태, 서비스 장애 127시간 30분으로 공식화 - 경향신문',\n",
       " '카카오톡이 멈추자 벌어진 일 - 뉴닉',\n",
       " '카카오모빌리티 “지분 안 팔겠다”…탄력요금제 희망 봤나 - 한겨레',\n",
       " '카카오그룹株 \\'대폭락의 날\\'…-80% 개미들 \"살려달라\" 아우성 - 머니투데이',\n",
       " '카카오 먹통 사태 ‘플랫폼 독점’ 비판에도 ‘시장에 맡기라’는 경제지 - 미디어오늘',\n",
       " \"“카카오에 정 떨어졌어요”…카카오서 탈출, 라인·텔레그램 가입 '러시' - 데일리포스트-스타트업워치\",\n",
       " '“카카오 독점” 문제라면서 여전히 자율규제?…안일한 공정위 - 한겨레',\n",
       " \"성장둔화 우려 카카오, '오픈채팅' 광고로 돌파구 찾는다 - 한겨레\",\n",
       " '카카오 먹통에 업비트도 하루종일 멈췄다 - Coindesk Korea',\n",
       " '-73%, -66%, -55% 참혹한 카카오그룹株..또 자회사 상장 논란 - 머니투데이',\n",
       " \"제2의 카카오 사태 막는다…정부, '디지털 위기관리 본부' 신설 - 대한민국정책포털 korea.kr\",\n",
       " '카카오의 약속 위배, 책임의 부재 : 미디어 : 사회 : 뉴스 - 한겨레',\n",
       " '입구 하나 막히자 다 막혔다…실력 뽀록난 ‘수퍼 앱 카카오’ - 중앙일보',\n",
       " '카카오, 하고 싶은 대로 다 하는 나라 - 한겨레21',\n",
       " '카카오에 맡긴 삶이 멈췄다‥피해 보상은? - MBC뉴스',\n",
       " \"'카카오 먹통' 소상공인 피해 신고 1000건 웃돌아 : 경제일반 : 경제 ... - 한겨레\",\n",
       " '카카오T로 베를린·파리·런던서도 택시 부른다 - 한겨레',\n",
       " '코로나 병상 단톡방 멈춰, 환자 20시간 대기…“정부도 너무 의존” - 한겨레',\n",
       " '한국 ‘카카오’ 서비스 장애 활용한 북 해킹 시도 포착 - 자유아시아방송',\n",
       " \"'카카오 먹통' 피해 접수 닷새 연장…보상범위·금액 아직 안갯속 - 한겨레\",\n",
       " '‘먹튀 논란’ 카카오, 스톡옵션 이익 기업 1위…개인 5위권에 3명이 카카오 임원 - 서울신문',\n",
       " '[사설] 플랫폼 독점 폐해 확인한 카카오 먹통, 재발 방지책 세워야 - 경향신문',\n",
       " \"'쪼개기 상장' 비판에 결국…카카오 손자회사 라이온하트 상장 철회 - 한겨레\",\n",
       " '‘2분기째 역성장’ 톡비즈, 카카오가 꺼내든 반전 카드는 - 포춘코리아',\n",
       " '“광고 공간 없고, 쿨하지 않다”던 카카오톡, 18개월간 광고 매출 2조 6000억원 - 서울신문',\n",
       " \"카카오, 남궁훈-홍은택 '각자 대표' 체제로…각각 사업·ESG 주력 - 한겨레\",\n",
       " '카카오 먹통에…과방위 국정감사 ‘카카오 국감’ 되나 - 미디어오늘',\n",
       " '[단독]류긍선 카카오모빌리티 사장, 21일 국토부 국감 자진 출석 - 머니투데이',\n",
       " \"5천만의 카톡 건드린 구글…업데이트 금지 '갑질' 언제까지? - 한겨레\",\n",
       " '카카오모빌리티 매각의 전말 - 리멤버 나우',\n",
       " \"카카오뱅크 '26주적금 with GS칼텍스' 출시 - 뉴스저널리즘\",\n",
       " '카카오 먹통 사태, 유료 서비스 보상금 예상액은 얼마? - HYPEBEAST',\n",
       " '“카카오T 배차 차별 없다” 자체 위원회, 일부 자료로만 결론 - 한겨레',\n",
       " \"'먹통 사태' 단 며칠 만에 백기…카카오 전략에 당했다? [선한결의 IT포커스] - 한국경제\",\n",
       " '추락과 반등의 갈림길에 선 카카오 왕국 - 시사저널',\n",
       " \"'상장 1년' 카카오페이, 영업적자 지속…12조 몸값 '꿈'이었나 - 연합인포맥스\",\n",
       " \"카카오, 카카오톡 채널 '챗봇' 서비스 이용요금 무료 전환 - 와우테일(WOWTALE)\",\n",
       " \"[단독]카카오 '율촌·태평양' vs SK C&C '김앤장'…법적 공방 막 올랐다 - 전자신문\",\n",
       " '폭락장에 화마까지 덮친 카카오…승자는 수백억 챙겨 나간 류영준 ... - 인베스트조선',\n",
       " '국회 지적, 김범수 사과에도… 카카오T, 주차 ‘독점 노출’ 프로모션 계속 - 조선비즈 - 조선비즈',\n",
       " \"'돈 내면 추가 콜'…카카오모빌리티, 대리운전 프로서비스 “단계적 폐지” - 한겨레\",\n",
       " '\"무료 이용자도 보상\"…정부, 카카오 보상 가이드라인 제시 - 한국경제',\n",
       " '\"수입 90% 줄고 카카오 보상 미지수\" 티스토리 블로거들 호소 - 머니투데이',\n",
       " '‘카카오톡 송금 금지’ 뉴스 사실일까? - 미디어오늘',\n",
       " \"내달 3300억 빚폭탄 터지나…카카오 탈출 못한 개미들 '덜덜' - 머니투데이\",\n",
       " '아이폰용 카카오톡 이모티콘 가격 인상 | Hypebeast.KR - HYPEBEAST',\n",
       " '\"불륜인데 멀티프로필 노출\" 난리났다…카카오에 물었더니 - 머니투데이',\n",
       " '카카오 4개사, 바닥은 대체 어디…올해 시총 72조원 증발 - 한국경제',\n",
       " '[단독]1년째 표류하는 카카오헤어샵 처리…투자자 \"김범수 나서달라\" - 머니투데이',\n",
       " \"'카카오 먹통' 사태에서 드러난 역설적 사실? - YTN\",\n",
       " \"카톡 '먹통' 일주일 후, ‘다시 카카오’…“마땅한 대체재 없다” - 서울경제 - 서울경제신문\",\n",
       " \"[단독] 잘될 줄 알았는데…'카카오 뷰' 1년만 개편 수순 - 서울경제 - 서울경제신문\",\n",
       " '카카오커머스, 7개월 만에 다시 본사와 분리 - 머니투데이',\n",
       " '[카카오 후폭풍]카카오 계열사별 보상 행렬…추가 접수 중 - 전자신문',\n",
       " '카카오톡 \\'좋아요\\' 추가…2030은 \"메신저를 왜 자꾸 SNS화 하나 ... - 스냅타임',\n",
       " '“카카오 본사는 사실상 제주 아닌 판교, 이 정도면 사기?” 먹튀 논란 - 제주의소리',\n",
       " '카카오모빌리티, 화물 중개시장 진출 : IT : 경제 : 뉴스 : 한겨레모바일 - 한겨레',\n",
       " '\"카카오 먹통으로 손해봤는데\"…카톡 창 상단에 \\'피해사례접수\\' 클릭 ... - 뉴시스',\n",
       " \"카카오, 주 4일 근무제 시동?…격주 금요일은 '전 직원 노는 날' - 한겨레\",\n",
       " '\"별점 테러 무서워 참았다\"…카카오 떠나는 택시기사들 - 한국경제',\n",
       " '[단독] 법인택시 10대 중 4대 카카오택시… 앱 호출 95% ‘독점’ - 조선비즈 - 조선비즈',\n",
       " '“불난 집에 더 큰 불” 카카오뱅크의 불편한 자화상 - 더스쿠프',\n",
       " \"카카오표 메타버스 '컬러버스', 어떤 모습일까 - 뉴시스\",\n",
       " \"'카카오페이지·웹툰' 서비스 먹통 보상…총 6000캐시 - 뉴시스\",\n",
       " '카카오, ‘다음’ 통합 무리수…사용자 불만 확대 < 인터넷·게임·플랫폼 ... - 테크월드 뉴스',\n",
       " '카카오의 자본시장 \\'갑질\\' 의 역사…\"카카오스럽다\" - 인베스트조선',\n",
       " '국토교통위, 카카오모빌리티 사장 국감 증인 채택 - 한겨레',\n",
       " \"'카카오 사태' 계기…금융당국, 전자금융사고 현안 긴급점검 - 한겨레\",\n",
       " '‘카카오 먹통’ 제주 데이터센터 계획 1년만에 완전 무산 - 제주의소리',\n",
       " '카카오 손해보험 공식 진출…보험업계 지각변동 오나 - 한겨레',\n",
       " '기본요금보다 비싼 택시 호출료… 택시 대란에 카카오T, 몰래 웃는다 - 조선비즈 - 조선비즈',\n",
       " '카카오톡 선물하기, ‘수수료 10%’ 대신 전액 환불 검토 - 서울경제 - 서울경제신문',\n",
       " '카카오톡, 메타버스로 한 번 더 진화한다 - AI타임스',\n",
       " \"[단독] 카카오 구독ON, 1년 만에 'OFF' - 서울경제 - 서울경제신문\",\n",
       " '\"계열사 직원은 점심 값 2배 내라\"…카카오 또 \\'시끌시끌\\' [황정수의 테크톡] - 한국경제',\n",
       " '\"내리막길 끝났나\" 네이버·카카오, 4분기 반등 가능성…이유는 - 한국경제',\n",
       " '\"이제 다음 아이디로 로그인 안됩니다\"…10월 카카오로 통폐합 - 머니투데이',\n",
       " '카카오게임즈 자회사 메타보라, P2E 게임 내부자 거래·은폐 의혹 제기 - 위키리크스한국',\n",
       " '국내 최고 자본시장(Capital Markets) 미디어 - 더벨(thebell)',\n",
       " \"탈 카카오 '러시'…라인·텔레그램·케이뱅크 등 '반사이익' - 경기신문\",\n",
       " '카카오페이, 이번엔 2대주주 블록딜에 15.57% 급락 - 한겨레',\n",
       " '“800억원 성과급 달라” 임지훈 전 대표, 카카오 상대 소송 - 한겨레',\n",
       " '금융시장 씹어먹었다…네이버·카카오·토스의 질주 [돈 냄새 취한 공룡들 ①] - 한국경제',\n",
       " '베일 벗은 카카오헬스 新사업…PHR-EMR 두 마리 토끼 잡을까 - 청년의사',\n",
       " '네이버 14곳·카카오 25곳 스타트업 투자 - 전자신문']"
      ]
     },
     "execution_count": 34,
     "metadata": {},
     "output_type": "execute_result"
    }
   ],
   "source": [
    "kakao_titles"
   ]
  },
  {
   "cell_type": "code",
   "execution_count": null,
   "id": "5490d08a",
   "metadata": {},
   "outputs": [],
   "source": []
  }
 ],
 "metadata": {
  "hide_input": false,
  "kernelspec": {
   "display_name": "quant_39",
   "language": "python",
   "name": "quant_39"
  },
  "language_info": {
   "codemirror_mode": {
    "name": "ipython",
    "version": 3
   },
   "file_extension": ".py",
   "mimetype": "text/x-python",
   "name": "python",
   "nbconvert_exporter": "python",
   "pygments_lexer": "ipython3",
   "version": "3.9.13"
  },
  "toc": {
   "base_numbering": 1,
   "nav_menu": {},
   "number_sections": true,
   "sideBar": true,
   "skip_h1_title": false,
   "title_cell": "Table of Contents",
   "title_sidebar": "Contents",
   "toc_cell": false,
   "toc_position": {},
   "toc_section_display": true,
   "toc_window_display": false
  }
 },
 "nbformat": 4,
 "nbformat_minor": 5
}
