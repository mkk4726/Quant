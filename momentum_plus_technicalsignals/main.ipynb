{
 "cells": [
  {
   "cell_type": "markdown",
   "id": "0c8f6982",
   "metadata": {},
   "source": [
    "- 북토크, 월가아재 책 등에서 본 내용 , 개인 퀀트가 먹을 룸은 유동성이 적어 대형 퀀트들이 참여하지 못하는 곳이다.\n",
    "- 소형주 모멘텀 전략 \n",
    "- 이에 대한 검정은 어떻게 할 수 있을까(?) \n",
    "- 모멘텀을 이용한 전략에 대해 깊게 사고해보는 프로젝트\n",
    "- 개별 주식, 초과수익, 비효율성, 다른 사람들의 실수를 어떻게 찾을 것인가\n",
    "- 추세를 어떻게 정의할 것인가 -> 차트매매로 해야결론. \n",
    "- 차트매매, 기술적 지표를 이용한 자동매매 전략 구현\n",
    "- 시장의 영향에서 벗어나기 위해 , 롱-숏 전략, 즉 하향 추세에 대해서 공매도를 진행해보고 싶다. \n",
    "- 다만 공매도가 현실적으로 복잡하기도 하고, 자동화를 어떻게 진행할 수 있는지 몰라 시간이 많이 소요될 것 같다.\n",
    "- 논문, 블로그 들을 리서치해서 독창성있는 프로젝트를 한번 해보고 싶다. 너무 거창하지 않더라도. \n",
    "- 그런 점에서 포워드 테스팅(실제 투자 , 아주 적은 금액, 경험을 위해서), 결과가 괜찮으면 꾸준히 돌리는 시스템을 설계해보고 싶다. \n",
    "- 블로그, 논문, 책으로 정리. \n",
    "- make automated trading system using teqnical indicator which have quantitive nature.    \n",
    "( teqinical indicators : RSI, MACD, SMA, EMA, Bollinger Bands ) \n",
    "- 기간은 7일정도로 생각, 7일 후에 결과내보고 추가적으로 프로젝트를 진행하도록 , 최대한 짧고 굵게 진행하는게 목표\n",
    "- 생각보다 고려할 것들이 많아서 당연히 부족할 것 같다. 데드라인을 명확히 정해서 진행하고 싶다.\n",
    "- 학교에서 하는 프로젝트처럼 개별로 코딩해서 모으기보다는 혼자서 완성해나가고, 의견을 나누는 방향으로 진행하고 싶다.\n",
    "- 프로젝트를 마친 후에는 역추세추종에 대한 프로젝트를 진행하고 싶다.\n",
    "- 이 전략과 상호보완되도록. "
   ]
  },
  {
   "cell_type": "markdown",
   "id": "ea73b503",
   "metadata": {},
   "source": [
    "시장국면분석과 함께 적용.  \n",
    "같은 지표라도 활용을 다르게 할 수 있겠다. 확률적 우위를 가지는 시기가 다르다. "
   ]
  },
  {
   "cell_type": "markdown",
   "id": "121bef9e",
   "metadata": {},
   "source": [
    "추세장이라면 bull market 인지, bear market인지 구분할 수 있는 지표가 있으면 좋겠다.   \n",
    "-> 이를 활용해서 확률적 우위가 있는 전략을 사용할 수 있도록."
   ]
  },
  {
   "cell_type": "markdown",
   "id": "3e8c417d",
   "metadata": {},
   "source": [
    "시장 선택, 지표 선택, "
   ]
  },
  {
   "cell_type": "markdown",
   "id": "f55b6539",
   "metadata": {},
   "source": [
    "지표 구현해서 어떤 조합이 좋은지. "
   ]
  },
  {
   "cell_type": "markdown",
   "id": "bd89a245",
   "metadata": {},
   "source": [
    "# 프로젝트 설명"
   ]
  },
  {
   "cell_type": "markdown",
   "id": "b8e20728",
   "metadata": {},
   "source": [
    "옵션 스트레들의 매수 포지션과 같은 수익구조를 가지는 모멘텀 전략.   \n",
    "즉 변동성이 높을 때 수익을 얻게 된다는 것이다.  (롱 온리 전략에서는 가격이 상승할 때 수익을 얻겠지)   \n",
    "사이트 팩터, 즉 소형주에서 대형주보다 변동성이 더 큰 모습을 보인다. 이는 꽤나 직관적이다.   \n",
    "소형주와 모멘텀을 합친 전략을 한국 주식시장에 적용해본다.   \n",
    "한국시장에서는 유동성이 부족해 먹을 룸이 많이 남아있다고 한다.  \n",
    "백테스팅해보고 직접 실행해보는 것까지가 이번 프로젝트의 목표다.  \n",
    "돈을 잃어도 되니까 , 꼭 포워트 테스팅까지 진행해보자."
   ]
  },
  {
   "cell_type": "markdown",
   "id": "81d2f6e3",
   "metadata": {},
   "source": [
    "적용해볼 시장은 한국 시장. KOSPI. 코스닥은 위험해서? 이 부분도 생각해봐야겠다. "
   ]
  },
  {
   "cell_type": "markdown",
   "id": "a2ea1fca",
   "metadata": {},
   "source": [
    "# 사용할 데이터"
   ]
  },
  {
   "cell_type": "markdown",
   "id": "36df16dd",
   "metadata": {},
   "source": [
    "필요한 데이터: ohlcv. 시가총액 데이터"
   ]
  },
  {
   "cell_type": "markdown",
   "id": "d2edab97",
   "metadata": {},
   "source": [
    "백테스팅시에는 FinanceDataReader를 사용"
   ]
  },
  {
   "cell_type": "code",
   "execution_count": 2,
   "id": "9437bb55",
   "metadata": {
    "ExecuteTime": {
     "end_time": "2023-02-27T14:31:48.587791Z",
     "start_time": "2023-02-27T14:31:47.891533Z"
    }
   },
   "outputs": [
    {
     "data": {
      "text/plain": [
       "'0.9.50'"
      ]
     },
     "execution_count": 2,
     "metadata": {},
     "output_type": "execute_result"
    }
   ],
   "source": [
    "import FinanceDataReader as fdr\n",
    "fdr.__version__"
   ]
  },
  {
   "cell_type": "code",
   "execution_count": 3,
   "id": "618cd72b",
   "metadata": {
    "ExecuteTime": {
     "end_time": "2023-02-27T14:31:49.191132Z",
     "start_time": "2023-02-27T14:31:48.589801Z"
    }
   },
   "outputs": [
    {
     "data": {
      "text/html": [
       "<div>\n",
       "<style scoped>\n",
       "    .dataframe tbody tr th:only-of-type {\n",
       "        vertical-align: middle;\n",
       "    }\n",
       "\n",
       "    .dataframe tbody tr th {\n",
       "        vertical-align: top;\n",
       "    }\n",
       "\n",
       "    .dataframe thead th {\n",
       "        text-align: right;\n",
       "    }\n",
       "</style>\n",
       "<table border=\"1\" class=\"dataframe\">\n",
       "  <thead>\n",
       "    <tr style=\"text-align: right;\">\n",
       "      <th></th>\n",
       "      <th>Code</th>\n",
       "      <th>ISU_CD</th>\n",
       "      <th>Name</th>\n",
       "      <th>Market</th>\n",
       "      <th>Dept</th>\n",
       "      <th>Close</th>\n",
       "      <th>ChangeCode</th>\n",
       "      <th>Changes</th>\n",
       "      <th>ChagesRatio</th>\n",
       "      <th>Open</th>\n",
       "      <th>High</th>\n",
       "      <th>Low</th>\n",
       "      <th>Volume</th>\n",
       "      <th>Amount</th>\n",
       "      <th>Marcap</th>\n",
       "      <th>Stocks</th>\n",
       "      <th>MarketId</th>\n",
       "    </tr>\n",
       "  </thead>\n",
       "  <tbody>\n",
       "    <tr>\n",
       "      <th>0</th>\n",
       "      <td>005930</td>\n",
       "      <td>KR7005930003</td>\n",
       "      <td>삼성전자</td>\n",
       "      <td>KOSPI</td>\n",
       "      <td></td>\n",
       "      <td>60500</td>\n",
       "      <td>2</td>\n",
       "      <td>-800</td>\n",
       "      <td>-1.31</td>\n",
       "      <td>60800</td>\n",
       "      <td>60800</td>\n",
       "      <td>60200</td>\n",
       "      <td>11155697</td>\n",
       "      <td>674292520900</td>\n",
       "      <td>361171844275000</td>\n",
       "      <td>5969782550</td>\n",
       "      <td>STK</td>\n",
       "    </tr>\n",
       "    <tr>\n",
       "      <th>1</th>\n",
       "      <td>373220</td>\n",
       "      <td>KR7373220003</td>\n",
       "      <td>LG에너지솔루션</td>\n",
       "      <td>KOSPI</td>\n",
       "      <td></td>\n",
       "      <td>508000</td>\n",
       "      <td>2</td>\n",
       "      <td>-3000</td>\n",
       "      <td>-0.59</td>\n",
       "      <td>507000</td>\n",
       "      <td>512000</td>\n",
       "      <td>499000</td>\n",
       "      <td>256666</td>\n",
       "      <td>129711824500</td>\n",
       "      <td>118872000000000</td>\n",
       "      <td>234000000</td>\n",
       "      <td>STK</td>\n",
       "    </tr>\n",
       "    <tr>\n",
       "      <th>2</th>\n",
       "      <td>000660</td>\n",
       "      <td>KR7000660001</td>\n",
       "      <td>SK하이닉스</td>\n",
       "      <td>KOSPI</td>\n",
       "      <td></td>\n",
       "      <td>90000</td>\n",
       "      <td>2</td>\n",
       "      <td>-1000</td>\n",
       "      <td>-1.10</td>\n",
       "      <td>90100</td>\n",
       "      <td>90300</td>\n",
       "      <td>89100</td>\n",
       "      <td>1893345</td>\n",
       "      <td>169778834100</td>\n",
       "      <td>65520212850000</td>\n",
       "      <td>728002365</td>\n",
       "      <td>STK</td>\n",
       "    </tr>\n",
       "    <tr>\n",
       "      <th>3</th>\n",
       "      <td>207940</td>\n",
       "      <td>KR7207940008</td>\n",
       "      <td>삼성바이오로직스</td>\n",
       "      <td>KOSPI</td>\n",
       "      <td></td>\n",
       "      <td>770000</td>\n",
       "      <td>2</td>\n",
       "      <td>-13000</td>\n",
       "      <td>-1.66</td>\n",
       "      <td>783000</td>\n",
       "      <td>784000</td>\n",
       "      <td>767000</td>\n",
       "      <td>53333</td>\n",
       "      <td>41158357000</td>\n",
       "      <td>54803980000000</td>\n",
       "      <td>71174000</td>\n",
       "      <td>STK</td>\n",
       "    </tr>\n",
       "    <tr>\n",
       "      <th>4</th>\n",
       "      <td>006400</td>\n",
       "      <td>KR7006400006</td>\n",
       "      <td>삼성SDI</td>\n",
       "      <td>KOSPI</td>\n",
       "      <td></td>\n",
       "      <td>678000</td>\n",
       "      <td>2</td>\n",
       "      <td>-2000</td>\n",
       "      <td>-0.29</td>\n",
       "      <td>669000</td>\n",
       "      <td>679000</td>\n",
       "      <td>667000</td>\n",
       "      <td>167158</td>\n",
       "      <td>112397619000</td>\n",
       "      <td>46622351340000</td>\n",
       "      <td>68764530</td>\n",
       "      <td>STK</td>\n",
       "    </tr>\n",
       "  </tbody>\n",
       "</table>\n",
       "</div>"
      ],
      "text/plain": [
       "     Code        ISU_CD      Name Market Dept   Close ChangeCode  Changes  \\\n",
       "0  005930  KR7005930003      삼성전자  KOSPI        60500          2     -800   \n",
       "1  373220  KR7373220003  LG에너지솔루션  KOSPI       508000          2    -3000   \n",
       "2  000660  KR7000660001    SK하이닉스  KOSPI        90000          2    -1000   \n",
       "3  207940  KR7207940008  삼성바이오로직스  KOSPI       770000          2   -13000   \n",
       "4  006400  KR7006400006     삼성SDI  KOSPI       678000          2    -2000   \n",
       "\n",
       "   ChagesRatio    Open    High     Low    Volume        Amount  \\\n",
       "0        -1.31   60800   60800   60200  11155697  674292520900   \n",
       "1        -0.59  507000  512000  499000    256666  129711824500   \n",
       "2        -1.10   90100   90300   89100   1893345  169778834100   \n",
       "3        -1.66  783000  784000  767000     53333   41158357000   \n",
       "4        -0.29  669000  679000  667000    167158  112397619000   \n",
       "\n",
       "            Marcap      Stocks MarketId  \n",
       "0  361171844275000  5969782550      STK  \n",
       "1  118872000000000   234000000      STK  \n",
       "2   65520212850000   728002365      STK  \n",
       "3   54803980000000    71174000      STK  \n",
       "4   46622351340000    68764530      STK  "
      ]
     },
     "execution_count": 3,
     "metadata": {},
     "output_type": "execute_result"
    }
   ],
   "source": [
    "# 한국거래소 상장종목 전체\n",
    "df_krx = fdr.StockListing('KRX')\n",
    "df_krx.head()"
   ]
  },
  {
   "cell_type": "code",
   "execution_count": 4,
   "id": "c4682f84",
   "metadata": {
    "ExecuteTime": {
     "end_time": "2023-02-27T14:31:49.690965Z",
     "start_time": "2023-02-27T14:31:49.193132Z"
    }
   },
   "outputs": [
    {
     "data": {
      "text/html": [
       "<div>\n",
       "<style scoped>\n",
       "    .dataframe tbody tr th:only-of-type {\n",
       "        vertical-align: middle;\n",
       "    }\n",
       "\n",
       "    .dataframe tbody tr th {\n",
       "        vertical-align: top;\n",
       "    }\n",
       "\n",
       "    .dataframe thead th {\n",
       "        text-align: right;\n",
       "    }\n",
       "</style>\n",
       "<table border=\"1\" class=\"dataframe\">\n",
       "  <thead>\n",
       "    <tr style=\"text-align: right;\">\n",
       "      <th></th>\n",
       "      <th>Code</th>\n",
       "      <th>ISU_CD</th>\n",
       "      <th>Name</th>\n",
       "      <th>Market</th>\n",
       "      <th>Dept</th>\n",
       "      <th>Close</th>\n",
       "      <th>ChangeCode</th>\n",
       "      <th>Changes</th>\n",
       "      <th>ChagesRatio</th>\n",
       "      <th>Open</th>\n",
       "      <th>High</th>\n",
       "      <th>Low</th>\n",
       "      <th>Volume</th>\n",
       "      <th>Amount</th>\n",
       "      <th>Marcap</th>\n",
       "      <th>Stocks</th>\n",
       "      <th>MarketId</th>\n",
       "    </tr>\n",
       "  </thead>\n",
       "  <tbody>\n",
       "    <tr>\n",
       "      <th>0</th>\n",
       "      <td>005930</td>\n",
       "      <td>KR7005930003</td>\n",
       "      <td>삼성전자</td>\n",
       "      <td>KOSPI</td>\n",
       "      <td></td>\n",
       "      <td>60500</td>\n",
       "      <td>2</td>\n",
       "      <td>-800</td>\n",
       "      <td>-1.31</td>\n",
       "      <td>60800</td>\n",
       "      <td>60800</td>\n",
       "      <td>60200</td>\n",
       "      <td>11155697</td>\n",
       "      <td>674292520900</td>\n",
       "      <td>361171844275000</td>\n",
       "      <td>5969782550</td>\n",
       "      <td>STK</td>\n",
       "    </tr>\n",
       "    <tr>\n",
       "      <th>1</th>\n",
       "      <td>373220</td>\n",
       "      <td>KR7373220003</td>\n",
       "      <td>LG에너지솔루션</td>\n",
       "      <td>KOSPI</td>\n",
       "      <td></td>\n",
       "      <td>508000</td>\n",
       "      <td>2</td>\n",
       "      <td>-3000</td>\n",
       "      <td>-0.59</td>\n",
       "      <td>507000</td>\n",
       "      <td>512000</td>\n",
       "      <td>499000</td>\n",
       "      <td>256666</td>\n",
       "      <td>129711824500</td>\n",
       "      <td>118872000000000</td>\n",
       "      <td>234000000</td>\n",
       "      <td>STK</td>\n",
       "    </tr>\n",
       "    <tr>\n",
       "      <th>2</th>\n",
       "      <td>000660</td>\n",
       "      <td>KR7000660001</td>\n",
       "      <td>SK하이닉스</td>\n",
       "      <td>KOSPI</td>\n",
       "      <td></td>\n",
       "      <td>90000</td>\n",
       "      <td>2</td>\n",
       "      <td>-1000</td>\n",
       "      <td>-1.10</td>\n",
       "      <td>90100</td>\n",
       "      <td>90300</td>\n",
       "      <td>89100</td>\n",
       "      <td>1893345</td>\n",
       "      <td>169778834100</td>\n",
       "      <td>65520212850000</td>\n",
       "      <td>728002365</td>\n",
       "      <td>STK</td>\n",
       "    </tr>\n",
       "    <tr>\n",
       "      <th>3</th>\n",
       "      <td>207940</td>\n",
       "      <td>KR7207940008</td>\n",
       "      <td>삼성바이오로직스</td>\n",
       "      <td>KOSPI</td>\n",
       "      <td></td>\n",
       "      <td>770000</td>\n",
       "      <td>2</td>\n",
       "      <td>-13000</td>\n",
       "      <td>-1.66</td>\n",
       "      <td>783000</td>\n",
       "      <td>784000</td>\n",
       "      <td>767000</td>\n",
       "      <td>53333</td>\n",
       "      <td>41158357000</td>\n",
       "      <td>54803980000000</td>\n",
       "      <td>71174000</td>\n",
       "      <td>STK</td>\n",
       "    </tr>\n",
       "    <tr>\n",
       "      <th>4</th>\n",
       "      <td>006400</td>\n",
       "      <td>KR7006400006</td>\n",
       "      <td>삼성SDI</td>\n",
       "      <td>KOSPI</td>\n",
       "      <td></td>\n",
       "      <td>678000</td>\n",
       "      <td>2</td>\n",
       "      <td>-2000</td>\n",
       "      <td>-0.29</td>\n",
       "      <td>669000</td>\n",
       "      <td>679000</td>\n",
       "      <td>667000</td>\n",
       "      <td>167158</td>\n",
       "      <td>112397619000</td>\n",
       "      <td>46622351340000</td>\n",
       "      <td>68764530</td>\n",
       "      <td>STK</td>\n",
       "    </tr>\n",
       "  </tbody>\n",
       "</table>\n",
       "</div>"
      ],
      "text/plain": [
       "     Code        ISU_CD      Name Market Dept   Close ChangeCode  Changes  \\\n",
       "0  005930  KR7005930003      삼성전자  KOSPI        60500          2     -800   \n",
       "1  373220  KR7373220003  LG에너지솔루션  KOSPI       508000          2    -3000   \n",
       "2  000660  KR7000660001    SK하이닉스  KOSPI        90000          2    -1000   \n",
       "3  207940  KR7207940008  삼성바이오로직스  KOSPI       770000          2   -13000   \n",
       "4  006400  KR7006400006     삼성SDI  KOSPI       678000          2    -2000   \n",
       "\n",
       "   ChagesRatio    Open    High     Low    Volume        Amount  \\\n",
       "0        -1.31   60800   60800   60200  11155697  674292520900   \n",
       "1        -0.59  507000  512000  499000    256666  129711824500   \n",
       "2        -1.10   90100   90300   89100   1893345  169778834100   \n",
       "3        -1.66  783000  784000  767000     53333   41158357000   \n",
       "4        -0.29  669000  679000  667000    167158  112397619000   \n",
       "\n",
       "            Marcap      Stocks MarketId  \n",
       "0  361171844275000  5969782550      STK  \n",
       "1  118872000000000   234000000      STK  \n",
       "2   65520212850000   728002365      STK  \n",
       "3   54803980000000    71174000      STK  \n",
       "4   46622351340000    68764530      STK  "
      ]
     },
     "execution_count": 4,
     "metadata": {},
     "output_type": "execute_result"
    }
   ],
   "source": [
    "df_marcap = fdr.StockListing('KRX-MARCAP')\n",
    "df_marcap.head()"
   ]
  },
  {
   "cell_type": "code",
   "execution_count": 5,
   "id": "1bdf5ad4",
   "metadata": {
    "ExecuteTime": {
     "end_time": "2023-02-27T14:31:49.706925Z",
     "start_time": "2023-02-27T14:31:49.692923Z"
    }
   },
   "outputs": [
    {
     "data": {
      "text/plain": [
       "Index(['Code', 'ISU_CD', 'Name', 'Market', 'Dept', 'Close', 'ChangeCode',\n",
       "       'Changes', 'ChagesRatio', 'Open', 'High', 'Low', 'Volume', 'Amount',\n",
       "       'Marcap', 'Stocks', 'MarketId'],\n",
       "      dtype='object')"
      ]
     },
     "execution_count": 5,
     "metadata": {},
     "output_type": "execute_result"
    }
   ],
   "source": [
    "df_marcap.columns"
   ]
  },
  {
   "cell_type": "code",
   "execution_count": 6,
   "id": "2f6c592b",
   "metadata": {
    "ExecuteTime": {
     "end_time": "2023-02-27T14:31:49.722999Z",
     "start_time": "2023-02-27T14:31:49.709924Z"
    }
   },
   "outputs": [
    {
     "data": {
      "text/plain": [
       "0       674292520900\n",
       "1       129711824500\n",
       "2       169778834100\n",
       "3        41158357000\n",
       "4       112397619000\n",
       "            ...     \n",
       "2695               0\n",
       "2696               0\n",
       "2697           37079\n",
       "2698               0\n",
       "2699         1379611\n",
       "Name: Amount, Length: 2700, dtype: int64"
      ]
     },
     "execution_count": 6,
     "metadata": {},
     "output_type": "execute_result"
    }
   ],
   "source": [
    "df_marcap['Amount']"
   ]
  },
  {
   "cell_type": "code",
   "execution_count": 7,
   "id": "25d2eb0c",
   "metadata": {
    "ExecuteTime": {
     "end_time": "2023-02-27T14:31:49.738957Z",
     "start_time": "2023-02-27T14:31:49.724926Z"
    }
   },
   "outputs": [
    {
     "data": {
      "text/plain": [
       "KSQ    1624\n",
       "STK     943\n",
       "KNX     133\n",
       "Name: MarketId, dtype: int64"
      ]
     },
     "execution_count": 7,
     "metadata": {},
     "output_type": "execute_result"
    }
   ],
   "source": [
    "df_marcap['MarketId'].value_counts()"
   ]
  },
  {
   "cell_type": "code",
   "execution_count": 8,
   "id": "2755ded4",
   "metadata": {
    "ExecuteTime": {
     "end_time": "2023-02-27T14:31:49.877520Z",
     "start_time": "2023-02-27T14:31:49.740951Z"
    }
   },
   "outputs": [
    {
     "data": {
      "text/html": [
       "<div>\n",
       "<style scoped>\n",
       "    .dataframe tbody tr th:only-of-type {\n",
       "        vertical-align: middle;\n",
       "    }\n",
       "\n",
       "    .dataframe tbody tr th {\n",
       "        vertical-align: top;\n",
       "    }\n",
       "\n",
       "    .dataframe thead th {\n",
       "        text-align: right;\n",
       "    }\n",
       "</style>\n",
       "<table border=\"1\" class=\"dataframe\">\n",
       "  <thead>\n",
       "    <tr style=\"text-align: right;\">\n",
       "      <th></th>\n",
       "      <th>Open</th>\n",
       "      <th>High</th>\n",
       "      <th>Low</th>\n",
       "      <th>Close</th>\n",
       "      <th>Volume</th>\n",
       "      <th>Change</th>\n",
       "    </tr>\n",
       "    <tr>\n",
       "      <th>Date</th>\n",
       "      <th></th>\n",
       "      <th></th>\n",
       "      <th></th>\n",
       "      <th></th>\n",
       "      <th></th>\n",
       "      <th></th>\n",
       "    </tr>\n",
       "  </thead>\n",
       "  <tbody>\n",
       "    <tr>\n",
       "      <th>2017-01-02</th>\n",
       "      <td>97219</td>\n",
       "      <td>97851</td>\n",
       "      <td>96315</td>\n",
       "      <td>97761</td>\n",
       "      <td>0</td>\n",
       "      <td>0.007430</td>\n",
       "    </tr>\n",
       "    <tr>\n",
       "      <th>2017-01-03</th>\n",
       "      <td>97306</td>\n",
       "      <td>97758</td>\n",
       "      <td>95860</td>\n",
       "      <td>96316</td>\n",
       "      <td>0</td>\n",
       "      <td>-0.014781</td>\n",
       "    </tr>\n",
       "    <tr>\n",
       "      <th>2017-01-04</th>\n",
       "      <td>96676</td>\n",
       "      <td>96676</td>\n",
       "      <td>94960</td>\n",
       "      <td>95864</td>\n",
       "      <td>0</td>\n",
       "      <td>-0.004693</td>\n",
       "    </tr>\n",
       "    <tr>\n",
       "      <th>2017-01-05</th>\n",
       "      <td>96131</td>\n",
       "      <td>97125</td>\n",
       "      <td>95589</td>\n",
       "      <td>96135</td>\n",
       "      <td>0</td>\n",
       "      <td>0.002827</td>\n",
       "    </tr>\n",
       "    <tr>\n",
       "      <th>2017-01-06</th>\n",
       "      <td>95683</td>\n",
       "      <td>96045</td>\n",
       "      <td>94870</td>\n",
       "      <td>95142</td>\n",
       "      <td>0</td>\n",
       "      <td>-0.010329</td>\n",
       "    </tr>\n",
       "  </tbody>\n",
       "</table>\n",
       "</div>"
      ],
      "text/plain": [
       "             Open   High    Low  Close  Volume    Change\n",
       "Date                                                    \n",
       "2017-01-02  97219  97851  96315  97761       0  0.007430\n",
       "2017-01-03  97306  97758  95860  96316       0 -0.014781\n",
       "2017-01-04  96676  96676  94960  95864       0 -0.004693\n",
       "2017-01-05  96131  97125  95589  96135       0  0.002827\n",
       "2017-01-06  95683  96045  94870  95142       0 -0.010329"
      ]
     },
     "execution_count": 8,
     "metadata": {},
     "output_type": "execute_result"
    }
   ],
   "source": [
    "df = fdr.DataReader('068270', '2017')\n",
    "df.head()"
   ]
  },
  {
   "cell_type": "code",
   "execution_count": 9,
   "id": "8e8278b2",
   "metadata": {
    "ExecuteTime": {
     "end_time": "2023-02-27T14:31:49.892948Z",
     "start_time": "2023-02-27T14:31:49.879471Z"
    }
   },
   "outputs": [],
   "source": [
    "# cd current directory \n",
    "# !git clone \"https://github.com/FinanceData/marcap.git\" marcap\n",
    "# https://financedata.github.io/marcap/"
   ]
  },
  {
   "cell_type": "code",
   "execution_count": 10,
   "id": "f39389ed",
   "metadata": {
    "ExecuteTime": {
     "end_time": "2023-02-27T14:31:49.908275Z",
     "start_time": "2023-02-27T14:31:49.894948Z"
    }
   },
   "outputs": [],
   "source": [
    "from marcap import marcap_data"
   ]
  },
  {
   "cell_type": "code",
   "execution_count": 11,
   "id": "5c2bc30f",
   "metadata": {
    "ExecuteTime": {
     "end_time": "2023-02-27T14:31:55.233280Z",
     "start_time": "2023-02-27T14:31:49.912233Z"
    }
   },
   "outputs": [],
   "source": [
    "# 특정 날짜를 지정하여 읽기\n",
    "df = marcap_data('2021-01-21')\n",
    "\n",
    "# 기간을 지정하여 읽기 (2018년 1년간 전종목)\n",
    "df = marcap_data('2020-01-01', '2020-12-31')\n",
    "\n",
    "# 기간을 지정하여, 특정 종목 읽기 (2018년 1년간 특정 종목)\n",
    "df = marcap_data('2021-01-01', '2021-01-31', code='005930')\n",
    "\n",
    "# 1995-05-02 ~ 2021-01-15일까지 25년 데이터를 모두\n",
    "# df = marcap_data('1995-05-02', '2021-01-15')"
   ]
  },
  {
   "cell_type": "code",
   "execution_count": 12,
   "id": "13f48a7b",
   "metadata": {
    "ExecuteTime": {
     "end_time": "2023-02-27T14:31:55.249289Z",
     "start_time": "2023-02-27T14:31:55.234276Z"
    }
   },
   "outputs": [
    {
     "data": {
      "text/html": [
       "<div>\n",
       "<style scoped>\n",
       "    .dataframe tbody tr th:only-of-type {\n",
       "        vertical-align: middle;\n",
       "    }\n",
       "\n",
       "    .dataframe tbody tr th {\n",
       "        vertical-align: top;\n",
       "    }\n",
       "\n",
       "    .dataframe thead th {\n",
       "        text-align: right;\n",
       "    }\n",
       "</style>\n",
       "<table border=\"1\" class=\"dataframe\">\n",
       "  <thead>\n",
       "    <tr style=\"text-align: right;\">\n",
       "      <th></th>\n",
       "      <th>Code</th>\n",
       "      <th>Name</th>\n",
       "      <th>Market</th>\n",
       "      <th>Dept</th>\n",
       "      <th>Close</th>\n",
       "      <th>ChangeCode</th>\n",
       "      <th>Changes</th>\n",
       "      <th>ChagesRatio</th>\n",
       "      <th>Open</th>\n",
       "      <th>High</th>\n",
       "      <th>Low</th>\n",
       "      <th>Volume</th>\n",
       "      <th>Amount</th>\n",
       "      <th>Marcap</th>\n",
       "      <th>Stocks</th>\n",
       "      <th>MarketId</th>\n",
       "      <th>Rank</th>\n",
       "    </tr>\n",
       "    <tr>\n",
       "      <th>Date</th>\n",
       "      <th></th>\n",
       "      <th></th>\n",
       "      <th></th>\n",
       "      <th></th>\n",
       "      <th></th>\n",
       "      <th></th>\n",
       "      <th></th>\n",
       "      <th></th>\n",
       "      <th></th>\n",
       "      <th></th>\n",
       "      <th></th>\n",
       "      <th></th>\n",
       "      <th></th>\n",
       "      <th></th>\n",
       "      <th></th>\n",
       "      <th></th>\n",
       "      <th></th>\n",
       "    </tr>\n",
       "  </thead>\n",
       "  <tbody>\n",
       "    <tr>\n",
       "      <th>2021-01-04</th>\n",
       "      <td>005930</td>\n",
       "      <td>삼성전자</td>\n",
       "      <td>KOSPI</td>\n",
       "      <td>NaN</td>\n",
       "      <td>83000</td>\n",
       "      <td>1</td>\n",
       "      <td>2000</td>\n",
       "      <td>2.47</td>\n",
       "      <td>81000</td>\n",
       "      <td>84400</td>\n",
       "      <td>80200</td>\n",
       "      <td>38655276</td>\n",
       "      <td>3185356823460</td>\n",
       "      <td>495491951650000</td>\n",
       "      <td>5969782550</td>\n",
       "      <td>STK</td>\n",
       "      <td>1</td>\n",
       "    </tr>\n",
       "    <tr>\n",
       "      <th>2021-01-05</th>\n",
       "      <td>005930</td>\n",
       "      <td>삼성전자</td>\n",
       "      <td>KOSPI</td>\n",
       "      <td>NaN</td>\n",
       "      <td>83900</td>\n",
       "      <td>1</td>\n",
       "      <td>900</td>\n",
       "      <td>1.08</td>\n",
       "      <td>81600</td>\n",
       "      <td>83900</td>\n",
       "      <td>81600</td>\n",
       "      <td>35335669</td>\n",
       "      <td>2915618322800</td>\n",
       "      <td>500864755945000</td>\n",
       "      <td>5969782550</td>\n",
       "      <td>STK</td>\n",
       "      <td>1</td>\n",
       "    </tr>\n",
       "    <tr>\n",
       "      <th>2021-01-06</th>\n",
       "      <td>005930</td>\n",
       "      <td>삼성전자</td>\n",
       "      <td>KOSPI</td>\n",
       "      <td>NaN</td>\n",
       "      <td>82200</td>\n",
       "      <td>2</td>\n",
       "      <td>-1700</td>\n",
       "      <td>-2.03</td>\n",
       "      <td>83300</td>\n",
       "      <td>84500</td>\n",
       "      <td>82100</td>\n",
       "      <td>42089013</td>\n",
       "      <td>3506903681680</td>\n",
       "      <td>490716125610000</td>\n",
       "      <td>5969782550</td>\n",
       "      <td>STK</td>\n",
       "      <td>1</td>\n",
       "    </tr>\n",
       "    <tr>\n",
       "      <th>2021-01-07</th>\n",
       "      <td>005930</td>\n",
       "      <td>삼성전자</td>\n",
       "      <td>KOSPI</td>\n",
       "      <td>NaN</td>\n",
       "      <td>82900</td>\n",
       "      <td>1</td>\n",
       "      <td>700</td>\n",
       "      <td>0.85</td>\n",
       "      <td>82800</td>\n",
       "      <td>84200</td>\n",
       "      <td>82700</td>\n",
       "      <td>32644642</td>\n",
       "      <td>2726112459660</td>\n",
       "      <td>494894973395000</td>\n",
       "      <td>5969782550</td>\n",
       "      <td>STK</td>\n",
       "      <td>1</td>\n",
       "    </tr>\n",
       "    <tr>\n",
       "      <th>2021-01-08</th>\n",
       "      <td>005930</td>\n",
       "      <td>삼성전자</td>\n",
       "      <td>KOSPI</td>\n",
       "      <td>NaN</td>\n",
       "      <td>88800</td>\n",
       "      <td>1</td>\n",
       "      <td>5900</td>\n",
       "      <td>7.12</td>\n",
       "      <td>83300</td>\n",
       "      <td>90000</td>\n",
       "      <td>83000</td>\n",
       "      <td>59013307</td>\n",
       "      <td>5083939899952</td>\n",
       "      <td>530116690440000</td>\n",
       "      <td>5969782550</td>\n",
       "      <td>STK</td>\n",
       "      <td>1</td>\n",
       "    </tr>\n",
       "    <tr>\n",
       "      <th>2021-01-11</th>\n",
       "      <td>005930</td>\n",
       "      <td>삼성전자</td>\n",
       "      <td>KOSPI</td>\n",
       "      <td>NaN</td>\n",
       "      <td>91000</td>\n",
       "      <td>1</td>\n",
       "      <td>2200</td>\n",
       "      <td>2.48</td>\n",
       "      <td>90000</td>\n",
       "      <td>96800</td>\n",
       "      <td>89500</td>\n",
       "      <td>90306177</td>\n",
       "      <td>8379237727064</td>\n",
       "      <td>543250212050000</td>\n",
       "      <td>5969782550</td>\n",
       "      <td>STK</td>\n",
       "      <td>1</td>\n",
       "    </tr>\n",
       "    <tr>\n",
       "      <th>2021-01-12</th>\n",
       "      <td>005930</td>\n",
       "      <td>삼성전자</td>\n",
       "      <td>KOSPI</td>\n",
       "      <td>NaN</td>\n",
       "      <td>90600</td>\n",
       "      <td>2</td>\n",
       "      <td>-400</td>\n",
       "      <td>-0.44</td>\n",
       "      <td>90300</td>\n",
       "      <td>91400</td>\n",
       "      <td>87800</td>\n",
       "      <td>48682416</td>\n",
       "      <td>4362546108950</td>\n",
       "      <td>540862299030000</td>\n",
       "      <td>5969782550</td>\n",
       "      <td>STK</td>\n",
       "      <td>1</td>\n",
       "    </tr>\n",
       "    <tr>\n",
       "      <th>2021-01-13</th>\n",
       "      <td>005930</td>\n",
       "      <td>삼성전자</td>\n",
       "      <td>KOSPI</td>\n",
       "      <td>NaN</td>\n",
       "      <td>89700</td>\n",
       "      <td>2</td>\n",
       "      <td>-900</td>\n",
       "      <td>-0.99</td>\n",
       "      <td>89800</td>\n",
       "      <td>91200</td>\n",
       "      <td>89100</td>\n",
       "      <td>36068848</td>\n",
       "      <td>3244066562850</td>\n",
       "      <td>535489494735000</td>\n",
       "      <td>5969782550</td>\n",
       "      <td>STK</td>\n",
       "      <td>1</td>\n",
       "    </tr>\n",
       "    <tr>\n",
       "      <th>2021-01-14</th>\n",
       "      <td>005930</td>\n",
       "      <td>삼성전자</td>\n",
       "      <td>KOSPI</td>\n",
       "      <td>NaN</td>\n",
       "      <td>89700</td>\n",
       "      <td>3</td>\n",
       "      <td>0</td>\n",
       "      <td>0.00</td>\n",
       "      <td>88700</td>\n",
       "      <td>90000</td>\n",
       "      <td>88700</td>\n",
       "      <td>26393970</td>\n",
       "      <td>2356661622700</td>\n",
       "      <td>535489494735000</td>\n",
       "      <td>5969782550</td>\n",
       "      <td>STK</td>\n",
       "      <td>1</td>\n",
       "    </tr>\n",
       "    <tr>\n",
       "      <th>2021-01-15</th>\n",
       "      <td>005930</td>\n",
       "      <td>삼성전자</td>\n",
       "      <td>KOSPI</td>\n",
       "      <td>NaN</td>\n",
       "      <td>88000</td>\n",
       "      <td>2</td>\n",
       "      <td>-1700</td>\n",
       "      <td>-1.90</td>\n",
       "      <td>89800</td>\n",
       "      <td>91800</td>\n",
       "      <td>88000</td>\n",
       "      <td>33431809</td>\n",
       "      <td>2975231937664</td>\n",
       "      <td>525340864400000</td>\n",
       "      <td>5969782550</td>\n",
       "      <td>STK</td>\n",
       "      <td>1</td>\n",
       "    </tr>\n",
       "    <tr>\n",
       "      <th>2021-01-18</th>\n",
       "      <td>005930</td>\n",
       "      <td>삼성전자</td>\n",
       "      <td>KOSPI</td>\n",
       "      <td>NaN</td>\n",
       "      <td>85000</td>\n",
       "      <td>2</td>\n",
       "      <td>-3000</td>\n",
       "      <td>-3.41</td>\n",
       "      <td>86600</td>\n",
       "      <td>87300</td>\n",
       "      <td>84100</td>\n",
       "      <td>43227951</td>\n",
       "      <td>3715775992600</td>\n",
       "      <td>507431516750000</td>\n",
       "      <td>5969782550</td>\n",
       "      <td>STK</td>\n",
       "      <td>1</td>\n",
       "    </tr>\n",
       "    <tr>\n",
       "      <th>2021-01-19</th>\n",
       "      <td>005930</td>\n",
       "      <td>삼성전자</td>\n",
       "      <td>KOSPI</td>\n",
       "      <td>NaN</td>\n",
       "      <td>87000</td>\n",
       "      <td>1</td>\n",
       "      <td>2000</td>\n",
       "      <td>2.35</td>\n",
       "      <td>84500</td>\n",
       "      <td>88000</td>\n",
       "      <td>83600</td>\n",
       "      <td>39895044</td>\n",
       "      <td>3441342754500</td>\n",
       "      <td>519371081850000</td>\n",
       "      <td>5969782550</td>\n",
       "      <td>STK</td>\n",
       "      <td>1</td>\n",
       "    </tr>\n",
       "    <tr>\n",
       "      <th>2021-01-20</th>\n",
       "      <td>005930</td>\n",
       "      <td>삼성전자</td>\n",
       "      <td>KOSPI</td>\n",
       "      <td>NaN</td>\n",
       "      <td>87200</td>\n",
       "      <td>1</td>\n",
       "      <td>200</td>\n",
       "      <td>0.23</td>\n",
       "      <td>89000</td>\n",
       "      <td>89000</td>\n",
       "      <td>86500</td>\n",
       "      <td>25211127</td>\n",
       "      <td>2205739149700</td>\n",
       "      <td>520565038360000</td>\n",
       "      <td>5969782550</td>\n",
       "      <td>STK</td>\n",
       "      <td>1</td>\n",
       "    </tr>\n",
       "    <tr>\n",
       "      <th>2021-01-21</th>\n",
       "      <td>005930</td>\n",
       "      <td>삼성전자</td>\n",
       "      <td>KOSPI</td>\n",
       "      <td>NaN</td>\n",
       "      <td>88100</td>\n",
       "      <td>1</td>\n",
       "      <td>900</td>\n",
       "      <td>1.03</td>\n",
       "      <td>87500</td>\n",
       "      <td>88600</td>\n",
       "      <td>86500</td>\n",
       "      <td>25318011</td>\n",
       "      <td>2211209788500</td>\n",
       "      <td>525937842655000</td>\n",
       "      <td>5969782550</td>\n",
       "      <td>STK</td>\n",
       "      <td>1</td>\n",
       "    </tr>\n",
       "    <tr>\n",
       "      <th>2021-01-22</th>\n",
       "      <td>005930</td>\n",
       "      <td>삼성전자</td>\n",
       "      <td>KOSPI</td>\n",
       "      <td>NaN</td>\n",
       "      <td>86800</td>\n",
       "      <td>2</td>\n",
       "      <td>-1300</td>\n",
       "      <td>-1.48</td>\n",
       "      <td>89000</td>\n",
       "      <td>89700</td>\n",
       "      <td>86800</td>\n",
       "      <td>30861661</td>\n",
       "      <td>2717635251520</td>\n",
       "      <td>518177125340000</td>\n",
       "      <td>5969782550</td>\n",
       "      <td>STK</td>\n",
       "      <td>1</td>\n",
       "    </tr>\n",
       "    <tr>\n",
       "      <th>2021-01-25</th>\n",
       "      <td>005930</td>\n",
       "      <td>삼성전자</td>\n",
       "      <td>KOSPI</td>\n",
       "      <td>NaN</td>\n",
       "      <td>89400</td>\n",
       "      <td>1</td>\n",
       "      <td>2600</td>\n",
       "      <td>3.00</td>\n",
       "      <td>87000</td>\n",
       "      <td>89900</td>\n",
       "      <td>86300</td>\n",
       "      <td>27258534</td>\n",
       "      <td>2410066876846</td>\n",
       "      <td>533698559970000</td>\n",
       "      <td>5969782550</td>\n",
       "      <td>STK</td>\n",
       "      <td>1</td>\n",
       "    </tr>\n",
       "    <tr>\n",
       "      <th>2021-01-26</th>\n",
       "      <td>005930</td>\n",
       "      <td>삼성전자</td>\n",
       "      <td>KOSPI</td>\n",
       "      <td>NaN</td>\n",
       "      <td>86700</td>\n",
       "      <td>2</td>\n",
       "      <td>-2700</td>\n",
       "      <td>-3.02</td>\n",
       "      <td>88800</td>\n",
       "      <td>89200</td>\n",
       "      <td>86500</td>\n",
       "      <td>33178936</td>\n",
       "      <td>2899318433100</td>\n",
       "      <td>517580147085000</td>\n",
       "      <td>5969782550</td>\n",
       "      <td>STK</td>\n",
       "      <td>1</td>\n",
       "    </tr>\n",
       "    <tr>\n",
       "      <th>2021-01-27</th>\n",
       "      <td>005930</td>\n",
       "      <td>삼성전자</td>\n",
       "      <td>KOSPI</td>\n",
       "      <td>NaN</td>\n",
       "      <td>85600</td>\n",
       "      <td>2</td>\n",
       "      <td>-1100</td>\n",
       "      <td>-1.27</td>\n",
       "      <td>86600</td>\n",
       "      <td>87700</td>\n",
       "      <td>85600</td>\n",
       "      <td>26423070</td>\n",
       "      <td>2282487598000</td>\n",
       "      <td>511013386280000</td>\n",
       "      <td>5969782550</td>\n",
       "      <td>STK</td>\n",
       "      <td>1</td>\n",
       "    </tr>\n",
       "    <tr>\n",
       "      <th>2021-01-28</th>\n",
       "      <td>005930</td>\n",
       "      <td>삼성전자</td>\n",
       "      <td>KOSPI</td>\n",
       "      <td>NaN</td>\n",
       "      <td>83700</td>\n",
       "      <td>2</td>\n",
       "      <td>-1900</td>\n",
       "      <td>-2.22</td>\n",
       "      <td>83200</td>\n",
       "      <td>85600</td>\n",
       "      <td>83200</td>\n",
       "      <td>31859808</td>\n",
       "      <td>2676569098000</td>\n",
       "      <td>499670799435000</td>\n",
       "      <td>5969782550</td>\n",
       "      <td>STK</td>\n",
       "      <td>1</td>\n",
       "    </tr>\n",
       "    <tr>\n",
       "      <th>2021-01-29</th>\n",
       "      <td>005930</td>\n",
       "      <td>삼성전자</td>\n",
       "      <td>KOSPI</td>\n",
       "      <td>NaN</td>\n",
       "      <td>82000</td>\n",
       "      <td>2</td>\n",
       "      <td>-1700</td>\n",
       "      <td>-2.03</td>\n",
       "      <td>84500</td>\n",
       "      <td>85000</td>\n",
       "      <td>82000</td>\n",
       "      <td>39615978</td>\n",
       "      <td>3292344404628</td>\n",
       "      <td>489522169100000</td>\n",
       "      <td>5969782550</td>\n",
       "      <td>STK</td>\n",
       "      <td>1</td>\n",
       "    </tr>\n",
       "  </tbody>\n",
       "</table>\n",
       "</div>"
      ],
      "text/plain": [
       "              Code  Name Market Dept  Close ChangeCode  Changes  ChagesRatio  \\\n",
       "Date                                                                           \n",
       "2021-01-04  005930  삼성전자  KOSPI  NaN  83000          1     2000         2.47   \n",
       "2021-01-05  005930  삼성전자  KOSPI  NaN  83900          1      900         1.08   \n",
       "2021-01-06  005930  삼성전자  KOSPI  NaN  82200          2    -1700        -2.03   \n",
       "2021-01-07  005930  삼성전자  KOSPI  NaN  82900          1      700         0.85   \n",
       "2021-01-08  005930  삼성전자  KOSPI  NaN  88800          1     5900         7.12   \n",
       "2021-01-11  005930  삼성전자  KOSPI  NaN  91000          1     2200         2.48   \n",
       "2021-01-12  005930  삼성전자  KOSPI  NaN  90600          2     -400        -0.44   \n",
       "2021-01-13  005930  삼성전자  KOSPI  NaN  89700          2     -900        -0.99   \n",
       "2021-01-14  005930  삼성전자  KOSPI  NaN  89700          3        0         0.00   \n",
       "2021-01-15  005930  삼성전자  KOSPI  NaN  88000          2    -1700        -1.90   \n",
       "2021-01-18  005930  삼성전자  KOSPI  NaN  85000          2    -3000        -3.41   \n",
       "2021-01-19  005930  삼성전자  KOSPI  NaN  87000          1     2000         2.35   \n",
       "2021-01-20  005930  삼성전자  KOSPI  NaN  87200          1      200         0.23   \n",
       "2021-01-21  005930  삼성전자  KOSPI  NaN  88100          1      900         1.03   \n",
       "2021-01-22  005930  삼성전자  KOSPI  NaN  86800          2    -1300        -1.48   \n",
       "2021-01-25  005930  삼성전자  KOSPI  NaN  89400          1     2600         3.00   \n",
       "2021-01-26  005930  삼성전자  KOSPI  NaN  86700          2    -2700        -3.02   \n",
       "2021-01-27  005930  삼성전자  KOSPI  NaN  85600          2    -1100        -1.27   \n",
       "2021-01-28  005930  삼성전자  KOSPI  NaN  83700          2    -1900        -2.22   \n",
       "2021-01-29  005930  삼성전자  KOSPI  NaN  82000          2    -1700        -2.03   \n",
       "\n",
       "             Open   High    Low    Volume         Amount           Marcap  \\\n",
       "Date                                                                        \n",
       "2021-01-04  81000  84400  80200  38655276  3185356823460  495491951650000   \n",
       "2021-01-05  81600  83900  81600  35335669  2915618322800  500864755945000   \n",
       "2021-01-06  83300  84500  82100  42089013  3506903681680  490716125610000   \n",
       "2021-01-07  82800  84200  82700  32644642  2726112459660  494894973395000   \n",
       "2021-01-08  83300  90000  83000  59013307  5083939899952  530116690440000   \n",
       "2021-01-11  90000  96800  89500  90306177  8379237727064  543250212050000   \n",
       "2021-01-12  90300  91400  87800  48682416  4362546108950  540862299030000   \n",
       "2021-01-13  89800  91200  89100  36068848  3244066562850  535489494735000   \n",
       "2021-01-14  88700  90000  88700  26393970  2356661622700  535489494735000   \n",
       "2021-01-15  89800  91800  88000  33431809  2975231937664  525340864400000   \n",
       "2021-01-18  86600  87300  84100  43227951  3715775992600  507431516750000   \n",
       "2021-01-19  84500  88000  83600  39895044  3441342754500  519371081850000   \n",
       "2021-01-20  89000  89000  86500  25211127  2205739149700  520565038360000   \n",
       "2021-01-21  87500  88600  86500  25318011  2211209788500  525937842655000   \n",
       "2021-01-22  89000  89700  86800  30861661  2717635251520  518177125340000   \n",
       "2021-01-25  87000  89900  86300  27258534  2410066876846  533698559970000   \n",
       "2021-01-26  88800  89200  86500  33178936  2899318433100  517580147085000   \n",
       "2021-01-27  86600  87700  85600  26423070  2282487598000  511013386280000   \n",
       "2021-01-28  83200  85600  83200  31859808  2676569098000  499670799435000   \n",
       "2021-01-29  84500  85000  82000  39615978  3292344404628  489522169100000   \n",
       "\n",
       "                Stocks MarketId  Rank  \n",
       "Date                                   \n",
       "2021-01-04  5969782550      STK     1  \n",
       "2021-01-05  5969782550      STK     1  \n",
       "2021-01-06  5969782550      STK     1  \n",
       "2021-01-07  5969782550      STK     1  \n",
       "2021-01-08  5969782550      STK     1  \n",
       "2021-01-11  5969782550      STK     1  \n",
       "2021-01-12  5969782550      STK     1  \n",
       "2021-01-13  5969782550      STK     1  \n",
       "2021-01-14  5969782550      STK     1  \n",
       "2021-01-15  5969782550      STK     1  \n",
       "2021-01-18  5969782550      STK     1  \n",
       "2021-01-19  5969782550      STK     1  \n",
       "2021-01-20  5969782550      STK     1  \n",
       "2021-01-21  5969782550      STK     1  \n",
       "2021-01-22  5969782550      STK     1  \n",
       "2021-01-25  5969782550      STK     1  \n",
       "2021-01-26  5969782550      STK     1  \n",
       "2021-01-27  5969782550      STK     1  \n",
       "2021-01-28  5969782550      STK     1  \n",
       "2021-01-29  5969782550      STK     1  "
      ]
     },
     "execution_count": 12,
     "metadata": {},
     "output_type": "execute_result"
    }
   ],
   "source": [
    "df"
   ]
  },
  {
   "cell_type": "markdown",
   "id": "b139572d",
   "metadata": {},
   "source": [
    "# 증명해봐야할 가설들"
   ]
  },
  {
   "cell_type": "markdown",
   "id": "643ab90a",
   "metadata": {},
   "source": [
    "- 소형주는 변동성이 크다.  \n",
    "- 유동성이 부족해 먹을 룸이 존재한다.  \n",
    "- 모멘텀에서의 비효율성, 사람들의 심리에서 발생한 실수.   \n",
    "- 다른 팩터의 영향은 없는지"
   ]
  },
  {
   "cell_type": "markdown",
   "id": "20edc9b5",
   "metadata": {},
   "source": [
    "## 변동성 검정하기, 소형주가 변동성이 더 높은가?"
   ]
  },
  {
   "cell_type": "markdown",
   "id": "8042f732",
   "metadata": {},
   "source": [
    "코스피 시장에서 변동성과 시가총액과의 상관관계.   \n",
    "단순히 1년동안의 수익률의 변동성 - 해당년도의 시가총액"
   ]
  },
  {
   "cell_type": "code",
   "execution_count": 13,
   "id": "7ef75ae8",
   "metadata": {
    "ExecuteTime": {
     "end_time": "2023-02-27T14:31:55.281054Z",
     "start_time": "2023-02-27T14:31:55.250278Z"
    }
   },
   "outputs": [],
   "source": [
    "import pandas as pd\n",
    "from tqdm import tqdm"
   ]
  },
  {
   "cell_type": "code",
   "execution_count": 14,
   "id": "e2e8f883",
   "metadata": {
    "ExecuteTime": {
     "end_time": "2023-02-27T14:31:55.296296Z",
     "start_time": "2023-02-27T14:31:55.282112Z"
    }
   },
   "outputs": [],
   "source": [
    "kospi_codes = df_krx[df_krx['Market'] == 'KOSPI']['Code']"
   ]
  },
  {
   "cell_type": "code",
   "execution_count": 50,
   "id": "14d1594f",
   "metadata": {
    "ExecuteTime": {
     "end_time": "2023-02-27T15:30:04.826720Z",
     "start_time": "2023-02-27T15:30:04.495218Z"
    },
    "scrolled": false
   },
   "outputs": [
    {
     "data": {
      "text/plain": [
       "Close    0.000216\n",
       "dtype: float64"
      ]
     },
     "execution_count": 50,
     "metadata": {},
     "output_type": "execute_result"
    }
   ],
   "source": [
    "df = fdr.DataReader('005930', '2022')\n",
    "df[['Close']].pct_change().var()"
   ]
  },
  {
   "cell_type": "code",
   "execution_count": 53,
   "id": "63e39140",
   "metadata": {
    "ExecuteTime": {
     "end_time": "2023-02-27T15:32:01.818648Z",
     "start_time": "2023-02-27T15:32:01.810171Z"
    }
   },
   "outputs": [
    {
     "data": {
      "text/plain": [
       "Close    3.917635e+07\n",
       "dtype: float64"
      ]
     },
     "execution_count": 53,
     "metadata": {},
     "output_type": "execute_result"
    }
   ],
   "source": [
    "df[['Close']].var()"
   ]
  },
  {
   "cell_type": "code",
   "execution_count": 51,
   "id": "f12fb06f",
   "metadata": {
    "ExecuteTime": {
     "end_time": "2023-02-27T15:30:07.060829Z",
     "start_time": "2023-02-27T15:30:07.043827Z"
    }
   },
   "outputs": [
    {
     "data": {
      "text/plain": [
       "14433091.92631579"
      ]
     },
     "execution_count": 51,
     "metadata": {},
     "output_type": "execute_result"
    }
   ],
   "source": [
    "df['Volume'].mean()"
   ]
  },
  {
   "cell_type": "code",
   "execution_count": 17,
   "id": "a31d2573",
   "metadata": {
    "ExecuteTime": {
     "end_time": "2023-02-27T14:32:02.435443Z",
     "start_time": "2023-02-27T14:32:00.463373Z"
    }
   },
   "outputs": [
    {
     "data": {
      "text/plain": [
       "923067240504.6951"
      ]
     },
     "execution_count": 17,
     "metadata": {},
     "output_type": "execute_result"
    }
   ],
   "source": [
    "marcap_data('2022-01-01', '2022-12-31', code='005930')['Amount'].mean()"
   ]
  },
  {
   "cell_type": "code",
   "execution_count": 20,
   "id": "fef9482e",
   "metadata": {
    "ExecuteTime": {
     "end_time": "2023-02-27T15:11:28.870465Z",
     "start_time": "2023-02-27T14:32:57.048578Z"
    }
   },
   "outputs": [
    {
     "name": "stderr",
     "output_type": "stream",
     "text": [
      "100%|████████████████████████████████████████████████████████████████████████████████| 943/943 [38:31<00:00,  2.45s/it]\n"
     ]
    }
   ],
   "source": [
    "result = pd.DataFrame()\n",
    "var_list = []\n",
    "amount_list = []\n",
    "\n",
    "for code in tqdm(kospi_codes):\n",
    "    df = fdr.DataReader(code, '2022')\n",
    "    var = df[['Close']].pct_change().var()\n",
    "    var_list.append(var)\n",
    "    amount = marcap_data('2022-01-01', '2022-12-31', code=code)['Amount'].mean()\n",
    "    amount_list.append(amount)\n",
    "    \n",
    "result['var'] = var_list\n",
    "result['amount'] = amount_list"
   ]
  },
  {
   "cell_type": "code",
   "execution_count": 28,
   "id": "bc3c3d94",
   "metadata": {
    "ExecuteTime": {
     "end_time": "2023-02-27T15:16:55.445537Z",
     "start_time": "2023-02-27T15:16:55.428560Z"
    }
   },
   "outputs": [],
   "source": [
    "var_list = [var[0] for var in var_list]"
   ]
  },
  {
   "cell_type": "code",
   "execution_count": 29,
   "id": "082b2df6",
   "metadata": {
    "ExecuteTime": {
     "end_time": "2023-02-27T15:17:05.099180Z",
     "start_time": "2023-02-27T15:17:05.086180Z"
    }
   },
   "outputs": [],
   "source": [
    "result['var'] = var_list"
   ]
  },
  {
   "cell_type": "code",
   "execution_count": 46,
   "id": "c23a9e09",
   "metadata": {
    "ExecuteTime": {
     "end_time": "2023-02-27T15:23:34.717202Z",
     "start_time": "2023-02-27T15:23:34.706026Z"
    }
   },
   "outputs": [
    {
     "data": {
      "text/html": [
       "<div>\n",
       "<style scoped>\n",
       "    .dataframe tbody tr th:only-of-type {\n",
       "        vertical-align: middle;\n",
       "    }\n",
       "\n",
       "    .dataframe tbody tr th {\n",
       "        vertical-align: top;\n",
       "    }\n",
       "\n",
       "    .dataframe thead th {\n",
       "        text-align: right;\n",
       "    }\n",
       "</style>\n",
       "<table border=\"1\" class=\"dataframe\">\n",
       "  <thead>\n",
       "    <tr style=\"text-align: right;\">\n",
       "      <th></th>\n",
       "      <th>var</th>\n",
       "      <th>amount</th>\n",
       "    </tr>\n",
       "  </thead>\n",
       "  <tbody>\n",
       "    <tr>\n",
       "      <th>var</th>\n",
       "      <td>1.000000</td>\n",
       "      <td>0.059942</td>\n",
       "    </tr>\n",
       "    <tr>\n",
       "      <th>amount</th>\n",
       "      <td>0.059942</td>\n",
       "      <td>1.000000</td>\n",
       "    </tr>\n",
       "  </tbody>\n",
       "</table>\n",
       "</div>"
      ],
      "text/plain": [
       "             var    amount\n",
       "var     1.000000  0.059942\n",
       "amount  0.059942  1.000000"
      ]
     },
     "execution_count": 46,
     "metadata": {},
     "output_type": "execute_result"
    }
   ],
   "source": [
    "result.corr()"
   ]
  },
  {
   "cell_type": "code",
   "execution_count": 43,
   "id": "740cc170",
   "metadata": {
    "ExecuteTime": {
     "end_time": "2023-02-27T15:22:57.063013Z",
     "start_time": "2023-02-27T15:22:57.054021Z"
    }
   },
   "outputs": [],
   "source": [
    "result = result.sort_values(by='amount', ascending=False)\n",
    "result = result.reset_index(drop=True)"
   ]
  },
  {
   "cell_type": "code",
   "execution_count": 45,
   "id": "24cf5283",
   "metadata": {
    "ExecuteTime": {
     "end_time": "2023-02-27T15:23:00.404552Z",
     "start_time": "2023-02-27T15:23:00.328757Z"
    },
    "scrolled": false
   },
   "outputs": [
    {
     "data": {
      "text/plain": [
       "<AxesSubplot:>"
      ]
     },
     "execution_count": 45,
     "metadata": {},
     "output_type": "execute_result"
    },
    {
     "data": {
      "image/png": "[encoded data removed]",
      "text/plain": [
       "<Figure size 640x480 with 1 Axes>"
      ]
     },
     "metadata": {},
     "output_type": "display_data"
    }
   ],
   "source": [
    "result['amount'].plot()"
   ]
  },
  {
   "cell_type": "code",
   "execution_count": 44,
   "id": "6bd32ab3",
   "metadata": {
    "ExecuteTime": {
     "end_time": "2023-02-27T15:22:59.964554Z",
     "start_time": "2023-02-27T15:22:59.872097Z"
    }
   },
   "outputs": [
    {
     "data": {
      "text/plain": [
       "<AxesSubplot:>"
      ]
     },
     "execution_count": 44,
     "metadata": {},
     "output_type": "execute_result"
    },
    {
     "data": {
      "image/png": "[encoded data removed]",
      "text/plain": [
       "<Figure size 640x480 with 1 Axes>"
      ]
     },
     "metadata": {},
     "output_type": "display_data"
    }
   ],
   "source": [
    "result['var'].plot()"
   ]
  },
  {
   "cell_type": "markdown",
   "id": "ae4d7a89",
   "metadata": {},
   "source": [
    "예상과 다르게 변동성에는 큰 차이가 없어보인다, 정확히는 대형주에서 변동성이 더 높게 나타난다. "
   ]
  },
  {
   "cell_type": "markdown",
   "id": "a25efb08",
   "metadata": {},
   "source": [
    "수익률의 변동성을 계산해야하는걸까, 가격의 변동성을 계산해야할까.   \n",
    "-> 당연히 수익률의 변동성, 왜냐하면 가격이 높은 애들일수록 변동성이 높게 나타날거니까.  \n",
    "추가로 고려해볼 점 -> 평균수익률, 유동성 "
   ]
  },
  {
   "cell_type": "code",
   "execution_count": 1,
   "id": "25b4d84f",
   "metadata": {
    "ExecuteTime": {
     "end_time": "2023-02-28T13:38:50.986814Z",
     "start_time": "2023-02-28T13:38:49.428153Z"
    }
   },
   "outputs": [],
   "source": [
    "import pandas as pd\n",
    "from tqdm import tqdm\n",
    "from marcap import marcap_data\n",
    "import FinanceDataReader as fdr\n",
    "\n",
    "df_krx = fdr.StockListing('KRX')\n",
    "kospi_codes = df_krx[df_krx['Market'] == 'KOSPI']['Code']"
   ]
  },
  {
   "cell_type": "code",
   "execution_count": 3,
   "id": "c29c2d88",
   "metadata": {
    "ExecuteTime": {
     "end_time": "2023-02-28T13:39:25.106996Z",
     "start_time": "2023-02-28T13:39:24.930452Z"
    }
   },
   "outputs": [
    {
     "data": {
      "text/html": [
       "<div>\n",
       "<style scoped>\n",
       "    .dataframe tbody tr th:only-of-type {\n",
       "        vertical-align: middle;\n",
       "    }\n",
       "\n",
       "    .dataframe tbody tr th {\n",
       "        vertical-align: top;\n",
       "    }\n",
       "\n",
       "    .dataframe thead th {\n",
       "        text-align: right;\n",
       "    }\n",
       "</style>\n",
       "<table border=\"1\" class=\"dataframe\">\n",
       "  <thead>\n",
       "    <tr style=\"text-align: right;\">\n",
       "      <th></th>\n",
       "      <th>Open</th>\n",
       "      <th>High</th>\n",
       "      <th>Low</th>\n",
       "      <th>Close</th>\n",
       "      <th>Volume</th>\n",
       "      <th>Change</th>\n",
       "    </tr>\n",
       "    <tr>\n",
       "      <th>Date</th>\n",
       "      <th></th>\n",
       "      <th></th>\n",
       "      <th></th>\n",
       "      <th></th>\n",
       "      <th></th>\n",
       "      <th></th>\n",
       "    </tr>\n",
       "  </thead>\n",
       "  <tbody>\n",
       "    <tr>\n",
       "      <th>2022-01-03</th>\n",
       "      <td>79400</td>\n",
       "      <td>79800</td>\n",
       "      <td>78200</td>\n",
       "      <td>78600</td>\n",
       "      <td>13502112</td>\n",
       "      <td>0.003831</td>\n",
       "    </tr>\n",
       "    <tr>\n",
       "      <th>2022-01-04</th>\n",
       "      <td>78800</td>\n",
       "      <td>79200</td>\n",
       "      <td>78300</td>\n",
       "      <td>78700</td>\n",
       "      <td>12427416</td>\n",
       "      <td>0.001272</td>\n",
       "    </tr>\n",
       "    <tr>\n",
       "      <th>2022-01-05</th>\n",
       "      <td>78800</td>\n",
       "      <td>79000</td>\n",
       "      <td>76400</td>\n",
       "      <td>77400</td>\n",
       "      <td>25470640</td>\n",
       "      <td>-0.016518</td>\n",
       "    </tr>\n",
       "    <tr>\n",
       "      <th>2022-01-06</th>\n",
       "      <td>76700</td>\n",
       "      <td>77600</td>\n",
       "      <td>76600</td>\n",
       "      <td>76900</td>\n",
       "      <td>12931954</td>\n",
       "      <td>-0.006460</td>\n",
       "    </tr>\n",
       "    <tr>\n",
       "      <th>2022-01-07</th>\n",
       "      <td>78100</td>\n",
       "      <td>78400</td>\n",
       "      <td>77400</td>\n",
       "      <td>78300</td>\n",
       "      <td>15163757</td>\n",
       "      <td>0.018205</td>\n",
       "    </tr>\n",
       "    <tr>\n",
       "      <th>...</th>\n",
       "      <td>...</td>\n",
       "      <td>...</td>\n",
       "      <td>...</td>\n",
       "      <td>...</td>\n",
       "      <td>...</td>\n",
       "      <td>...</td>\n",
       "    </tr>\n",
       "    <tr>\n",
       "      <th>2023-02-22</th>\n",
       "      <td>61500</td>\n",
       "      <td>61800</td>\n",
       "      <td>61000</td>\n",
       "      <td>61100</td>\n",
       "      <td>11959088</td>\n",
       "      <td>-0.016103</td>\n",
       "    </tr>\n",
       "    <tr>\n",
       "      <th>2023-02-23</th>\n",
       "      <td>61700</td>\n",
       "      <td>62500</td>\n",
       "      <td>61500</td>\n",
       "      <td>62000</td>\n",
       "      <td>13047099</td>\n",
       "      <td>0.014730</td>\n",
       "    </tr>\n",
       "    <tr>\n",
       "      <th>2023-02-24</th>\n",
       "      <td>62300</td>\n",
       "      <td>62600</td>\n",
       "      <td>61300</td>\n",
       "      <td>61300</td>\n",
       "      <td>10308143</td>\n",
       "      <td>-0.011290</td>\n",
       "    </tr>\n",
       "    <tr>\n",
       "      <th>2023-02-27</th>\n",
       "      <td>60800</td>\n",
       "      <td>60800</td>\n",
       "      <td>60200</td>\n",
       "      <td>60500</td>\n",
       "      <td>11155697</td>\n",
       "      <td>-0.013051</td>\n",
       "    </tr>\n",
       "    <tr>\n",
       "      <th>2023-02-28</th>\n",
       "      <td>60800</td>\n",
       "      <td>61400</td>\n",
       "      <td>60500</td>\n",
       "      <td>60600</td>\n",
       "      <td>11768887</td>\n",
       "      <td>0.001653</td>\n",
       "    </tr>\n",
       "  </tbody>\n",
       "</table>\n",
       "<p>286 rows × 6 columns</p>\n",
       "</div>"
      ],
      "text/plain": [
       "             Open   High    Low  Close    Volume    Change\n",
       "Date                                                      \n",
       "2022-01-03  79400  79800  78200  78600  13502112  0.003831\n",
       "2022-01-04  78800  79200  78300  78700  12427416  0.001272\n",
       "2022-01-05  78800  79000  76400  77400  25470640 -0.016518\n",
       "2022-01-06  76700  77600  76600  76900  12931954 -0.006460\n",
       "2022-01-07  78100  78400  77400  78300  15163757  0.018205\n",
       "...           ...    ...    ...    ...       ...       ...\n",
       "2023-02-22  61500  61800  61000  61100  11959088 -0.016103\n",
       "2023-02-23  61700  62500  61500  62000  13047099  0.014730\n",
       "2023-02-24  62300  62600  61300  61300  10308143 -0.011290\n",
       "2023-02-27  60800  60800  60200  60500  11155697 -0.013051\n",
       "2023-02-28  60800  61400  60500  60600  11768887  0.001653\n",
       "\n",
       "[286 rows x 6 columns]"
      ]
     },
     "execution_count": 3,
     "metadata": {},
     "output_type": "execute_result"
    }
   ],
   "source": [
    "df = fdr.DataReader('005930', '2022')\n",
    "df"
   ]
  },
  {
   "cell_type": "code",
   "execution_count": 9,
   "id": "2cec7700",
   "metadata": {
    "ExecuteTime": {
     "end_time": "2023-02-28T13:41:33.792669Z",
     "start_time": "2023-02-28T13:41:33.779672Z"
    }
   },
   "outputs": [
    {
     "data": {
      "text/plain": [
       "0.00021557775604349747"
      ]
     },
     "execution_count": 9,
     "metadata": {},
     "output_type": "execute_result"
    }
   ],
   "source": [
    "df['Close'].pct_change().var()"
   ]
  },
  {
   "cell_type": "code",
   "execution_count": 10,
   "id": "eb821496",
   "metadata": {
    "ExecuteTime": {
     "end_time": "2023-02-28T14:15:27.015532Z",
     "start_time": "2023-02-28T13:42:07.455074Z"
    }
   },
   "outputs": [
    {
     "name": "stderr",
     "output_type": "stream",
     "text": [
      "100%|████████████████████████████████████████████████████████████████████████████████| 943/943 [33:19<00:00,  2.12s/it]\n"
     ]
    }
   ],
   "source": [
    "result = pd.DataFrame()\n",
    "\n",
    "var_list = []\n",
    "amount_list = []\n",
    "volume_list = []\n",
    "er_list = []\n",
    "\n",
    "for code in tqdm(kospi_codes):\n",
    "    df = fdr.DataReader(code, '2022')\n",
    "    \n",
    "    var = df['Close'].pct_change().var()\n",
    "    var_list.append(var)\n",
    "    \n",
    "    amount = marcap_data('2022-01-01', '2022-12-31', code=code)['Amount'].mean()\n",
    "    amount_list.append(amount)\n",
    "    \n",
    "    volume = df['Volume'].mean()\n",
    "    volume_list.append(volume)\n",
    "    \n",
    "    er = df['Close'].pct_change().mean()\n",
    "    er_list.append(er)\n",
    "\n",
    "    \n",
    "result['var'] = var_list\n",
    "result['amount'] = amount_list\n",
    "result['volume'] = volume_list\n",
    "result['er'] = er_list"
   ]
  },
  {
   "cell_type": "code",
   "execution_count": 11,
   "id": "daa22aba",
   "metadata": {
    "ExecuteTime": {
     "end_time": "2023-02-28T14:15:27.030682Z",
     "start_time": "2023-02-28T14:15:27.017683Z"
    }
   },
   "outputs": [],
   "source": [
    "result = result.sort_values(by='amount', ascending=False)\n",
    "result = result.reset_index(drop=True)"
   ]
  },
  {
   "cell_type": "code",
   "execution_count": 13,
   "id": "ecba8c21",
   "metadata": {
    "ExecuteTime": {
     "end_time": "2023-02-28T14:15:40.349601Z",
     "start_time": "2023-02-28T14:15:40.332615Z"
    }
   },
   "outputs": [
    {
     "data": {
      "text/html": [
       "<div>\n",
       "<style scoped>\n",
       "    .dataframe tbody tr th:only-of-type {\n",
       "        vertical-align: middle;\n",
       "    }\n",
       "\n",
       "    .dataframe tbody tr th {\n",
       "        vertical-align: top;\n",
       "    }\n",
       "\n",
       "    .dataframe thead th {\n",
       "        text-align: right;\n",
       "    }\n",
       "</style>\n",
       "<table border=\"1\" class=\"dataframe\">\n",
       "  <thead>\n",
       "    <tr style=\"text-align: right;\">\n",
       "      <th></th>\n",
       "      <th>var</th>\n",
       "      <th>amount</th>\n",
       "      <th>volume</th>\n",
       "      <th>er</th>\n",
       "    </tr>\n",
       "  </thead>\n",
       "  <tbody>\n",
       "    <tr>\n",
       "      <th>var</th>\n",
       "      <td>1.000000</td>\n",
       "      <td>0.059938</td>\n",
       "      <td>0.258028</td>\n",
       "      <td>0.710004</td>\n",
       "    </tr>\n",
       "    <tr>\n",
       "      <th>amount</th>\n",
       "      <td>0.059938</td>\n",
       "      <td>1.000000</td>\n",
       "      <td>0.368306</td>\n",
       "      <td>0.025454</td>\n",
       "    </tr>\n",
       "    <tr>\n",
       "      <th>volume</th>\n",
       "      <td>0.258028</td>\n",
       "      <td>0.368306</td>\n",
       "      <td>1.000000</td>\n",
       "      <td>0.089167</td>\n",
       "    </tr>\n",
       "    <tr>\n",
       "      <th>er</th>\n",
       "      <td>0.710004</td>\n",
       "      <td>0.025454</td>\n",
       "      <td>0.089167</td>\n",
       "      <td>1.000000</td>\n",
       "    </tr>\n",
       "  </tbody>\n",
       "</table>\n",
       "</div>"
      ],
      "text/plain": [
       "             var    amount    volume        er\n",
       "var     1.000000  0.059938  0.258028  0.710004\n",
       "amount  0.059938  1.000000  0.368306  0.025454\n",
       "volume  0.258028  0.368306  1.000000  0.089167\n",
       "er      0.710004  0.025454  0.089167  1.000000"
      ]
     },
     "execution_count": 13,
     "metadata": {},
     "output_type": "execute_result"
    }
   ],
   "source": [
    "result.corr()"
   ]
  },
  {
   "cell_type": "code",
   "execution_count": 14,
   "id": "fe668251",
   "metadata": {
    "ExecuteTime": {
     "end_time": "2023-02-28T14:16:02.245084Z",
     "start_time": "2023-02-28T14:16:01.399857Z"
    }
   },
   "outputs": [
    {
     "data": {
      "text/plain": [
       "<AxesSubplot:>"
      ]
     },
     "execution_count": 14,
     "metadata": {},
     "output_type": "execute_result"
    },
    {
     "data": {
      "image/png": "[encoded data removed]",
      "text/plain": [
       "<Figure size 640x480 with 1 Axes>"
      ]
     },
     "metadata": {},
     "output_type": "display_data"
    }
   ],
   "source": [
    "result['er'].plot()"
   ]
  },
  {
   "cell_type": "markdown",
   "id": "b763e730",
   "metadata": {},
   "source": [
    "size factor의 효용, 더 높은 기대수익률은 확인할 수 없었다.   "
   ]
  },
  {
   "cell_type": "code",
   "execution_count": 16,
   "id": "f67b8ebb",
   "metadata": {
    "ExecuteTime": {
     "end_time": "2023-02-28T14:16:58.611115Z",
     "start_time": "2023-02-28T14:16:58.526686Z"
    }
   },
   "outputs": [
    {
     "data": {
      "text/plain": [
       "<AxesSubplot:>"
      ]
     },
     "execution_count": 16,
     "metadata": {},
     "output_type": "execute_result"
    },
    {
     "data": {
      "image/png": "[encoded data removed]",
      "text/plain": [
       "<Figure size 640x480 with 1 Axes>"
      ]
     },
     "metadata": {},
     "output_type": "display_data"
    }
   ],
   "source": [
    "result['volume'].plot()"
   ]
  },
  {
   "cell_type": "markdown",
   "id": "37206fec",
   "metadata": {},
   "source": [
    "생각하고 있는 전략은 모멘텀 스코어를 단순하게 이용한 롱-숏 전략이다.   \n",
    "etf보다는 개별 주식을 거래해, 알파를 추구하고자 한다.  \n",
    "한국시장을 선택한 이유는 거래량이 적은 주식에 대해서는 개별 퀀트가 먹을 룸이 남아있을 거라는 가정이 포함되어 있다.   \n",
    "다만, 이를 어떻게 증명할 수 있을지는 모르겠다. 수익률이 더 높다고 이 가설이 증명되는걸까?"
   ]
  },
  {
   "cell_type": "markdown",
   "id": "387f34b3",
   "metadata": {},
   "source": [
    "모멘텀 스코어를 어떻게 정의하냐에 따라 성과가 많이 달라질 것 같다.   \n",
    "매월 리밸런싱이 아닌, 신호가 발생하면 거래를 진행하는 방식으로 거래하려 한다.   \n",
    "-> 너무 길지 않은 추세 길이   \n",
    "추세를 어떻게 정의할 것인가.  \n"
   ]
  },
  {
   "cell_type": "markdown",
   "id": "1499be4d",
   "metadata": {},
   "source": [
    "단기적인 추세를 어떻게 정의하고, 잡을 수 있을까? "
   ]
  },
  {
   "cell_type": "markdown",
   "id": "d5d9dd41",
   "metadata": {},
   "source": [
    "모멘텀 전략 , 사람들의 인지적 패턴에서 비롯된 수익구조.   \n",
    "시장이 과잉되고 있을 때 사서, 과잉된 후에 파는 것. "
   ]
  },
  {
   "cell_type": "markdown",
   "id": "194d9f90",
   "metadata": {},
   "source": [
    "최근의 수익률이 높은 종목을 사고, 수익률이 낮은 종목을 판다.   \n",
    "평균수익률로 추세를 정의할 수 있을까? "
   ]
  },
  {
   "cell_type": "markdown",
   "id": "9c2624d8",
   "metadata": {},
   "source": [
    "단기, 장기 이동평균선의 교점에서 시그널 발생, 매매 . 이 방식은 차트 매매일까?"
   ]
  },
  {
   "cell_type": "markdown",
   "id": "118f39ed",
   "metadata": {},
   "source": [
    "결국 지금 내가 하려는 것은 차트매매, 기술적 지표들을 참고해서 전략을 구성할 수도 있겠다.   \n",
    "RSI, MACD, 이동평균선, 볼린저 밴드 등등"
   ]
  },
  {
   "cell_type": "markdown",
   "id": "80109080",
   "metadata": {},
   "source": [
    "make automated trading system using teqnical indicator which have quantitive nature.    \n",
    "( teqinical indicators : RSI, MACD, SMA, EMA, Bollinger Bands ) "
   ]
  },
  {
   "cell_type": "markdown",
   "id": "280885a0",
   "metadata": {},
   "source": [
    "Long - short strategy 도 같이 적용해보고 싶다.   \n",
    "하락장에서도 수익을 낼 수 있도록. "
   ]
  },
  {
   "cell_type": "markdown",
   "id": "8230f6e3",
   "metadata": {},
   "source": [
    "횡보장에서 수익을 낼 수 있는 포트폴리오를 구성한다면, 이 전략과 함께 돌리면 금상첨화겠다."
   ]
  },
  {
   "cell_type": "markdown",
   "id": "ad1cfdf8",
   "metadata": {},
   "source": [
    "# Implement techniqal indicators using python"
   ]
  },
  {
   "cell_type": "code",
   "execution_count": 29,
   "id": "2fb609d4",
   "metadata": {
    "ExecuteTime": {
     "end_time": "2023-03-01T07:04:40.206245Z",
     "start_time": "2023-03-01T07:04:39.589861Z"
    }
   },
   "outputs": [],
   "source": [
    "import FinanceDataReader as fdr\n",
    "import pandas as pd\n",
    "import matplotlib.pyplot as plt\n",
    "\n",
    "\n",
    "df_krx = fdr.StockListing('KRX')\n",
    "kospi_codes = df_krx[df_krx['Market'] == 'KOSPI']['Code']"
   ]
  },
  {
   "cell_type": "markdown",
   "id": "95ebd648",
   "metadata": {},
   "source": [
    "## RSI (Relative Strength Index)\n",
    "상대강도지수, RSI가 70%를 웃돌면 과매수, 30%을 밑돌면 과매도 구간으로 생각할 수 있다.    \n",
    "다만 추세가 이어지는 경우가 있기 때문에 단독으로 쓰기는 어렵다.\n"
   ]
  },
  {
   "cell_type": "markdown",
   "id": "0ef1c790",
   "metadata": {},
   "source": [
    "- RS = AU / AD\n",
    "- RSI = 100 - (100 / 1 + RS) = RS / (1 + RS) = AU / (AU + AD)"
   ]
  },
  {
   "cell_type": "markdown",
   "id": "fd9408dd",
   "metadata": {},
   "source": [
    "참고 자료 :   \n",
    "https://www.nanumtrading.com/fx-%EB%B0%B0%EC%9A%B0%EA%B8%B0/%EC%B0%A8%ED%8A%B8-%EB%B3%B4%EC%A1%B0%EC%A7%80%ED%91%9C-%EC%9D%B4%ED%95%B4/03-rsi/"
   ]
  },
  {
   "cell_type": "code",
   "execution_count": 4,
   "id": "7d85a3df",
   "metadata": {
    "ExecuteTime": {
     "end_time": "2023-03-01T06:51:38.771469Z",
     "start_time": "2023-03-01T06:51:38.525838Z"
    }
   },
   "outputs": [
    {
     "data": {
      "text/html": [
       "<div>\n",
       "<style scoped>\n",
       "    .dataframe tbody tr th:only-of-type {\n",
       "        vertical-align: middle;\n",
       "    }\n",
       "\n",
       "    .dataframe tbody tr th {\n",
       "        vertical-align: top;\n",
       "    }\n",
       "\n",
       "    .dataframe thead th {\n",
       "        text-align: right;\n",
       "    }\n",
       "</style>\n",
       "<table border=\"1\" class=\"dataframe\">\n",
       "  <thead>\n",
       "    <tr style=\"text-align: right;\">\n",
       "      <th></th>\n",
       "      <th>Open</th>\n",
       "      <th>High</th>\n",
       "      <th>Low</th>\n",
       "      <th>Close</th>\n",
       "      <th>Volume</th>\n",
       "      <th>Change</th>\n",
       "    </tr>\n",
       "    <tr>\n",
       "      <th>Date</th>\n",
       "      <th></th>\n",
       "      <th></th>\n",
       "      <th></th>\n",
       "      <th></th>\n",
       "      <th></th>\n",
       "      <th></th>\n",
       "    </tr>\n",
       "  </thead>\n",
       "  <tbody>\n",
       "    <tr>\n",
       "      <th>2017-01-02</th>\n",
       "      <td>97219</td>\n",
       "      <td>97851</td>\n",
       "      <td>96315</td>\n",
       "      <td>97761</td>\n",
       "      <td>0</td>\n",
       "      <td>0.007430</td>\n",
       "    </tr>\n",
       "    <tr>\n",
       "      <th>2017-01-03</th>\n",
       "      <td>97306</td>\n",
       "      <td>97758</td>\n",
       "      <td>95860</td>\n",
       "      <td>96316</td>\n",
       "      <td>0</td>\n",
       "      <td>-0.014781</td>\n",
       "    </tr>\n",
       "    <tr>\n",
       "      <th>2017-01-04</th>\n",
       "      <td>96676</td>\n",
       "      <td>96676</td>\n",
       "      <td>94960</td>\n",
       "      <td>95864</td>\n",
       "      <td>0</td>\n",
       "      <td>-0.004693</td>\n",
       "    </tr>\n",
       "    <tr>\n",
       "      <th>2017-01-05</th>\n",
       "      <td>96131</td>\n",
       "      <td>97125</td>\n",
       "      <td>95589</td>\n",
       "      <td>96135</td>\n",
       "      <td>0</td>\n",
       "      <td>0.002827</td>\n",
       "    </tr>\n",
       "    <tr>\n",
       "      <th>2017-01-06</th>\n",
       "      <td>95683</td>\n",
       "      <td>96045</td>\n",
       "      <td>94870</td>\n",
       "      <td>95142</td>\n",
       "      <td>0</td>\n",
       "      <td>-0.010329</td>\n",
       "    </tr>\n",
       "  </tbody>\n",
       "</table>\n",
       "</div>"
      ],
      "text/plain": [
       "             Open   High    Low  Close  Volume    Change\n",
       "Date                                                    \n",
       "2017-01-02  97219  97851  96315  97761       0  0.007430\n",
       "2017-01-03  97306  97758  95860  96316       0 -0.014781\n",
       "2017-01-04  96676  96676  94960  95864       0 -0.004693\n",
       "2017-01-05  96131  97125  95589  96135       0  0.002827\n",
       "2017-01-06  95683  96045  94870  95142       0 -0.010329"
      ]
     },
     "execution_count": 4,
     "metadata": {},
     "output_type": "execute_result"
    }
   ],
   "source": [
    "df = fdr.DataReader('068270', '2017')\n",
    "df.head()"
   ]
  },
  {
   "cell_type": "code",
   "execution_count": 72,
   "id": "8fb839e3",
   "metadata": {
    "ExecuteTime": {
     "end_time": "2023-03-01T07:23:17.540610Z",
     "start_time": "2023-03-01T07:23:17.510634Z"
    }
   },
   "outputs": [
    {
     "data": {
      "text/html": [
       "<div>\n",
       "<style scoped>\n",
       "    .dataframe tbody tr th:only-of-type {\n",
       "        vertical-align: middle;\n",
       "    }\n",
       "\n",
       "    .dataframe tbody tr th {\n",
       "        vertical-align: top;\n",
       "    }\n",
       "\n",
       "    .dataframe thead th {\n",
       "        text-align: right;\n",
       "    }\n",
       "</style>\n",
       "<table border=\"1\" class=\"dataframe\">\n",
       "  <thead>\n",
       "    <tr style=\"text-align: right;\">\n",
       "      <th></th>\n",
       "      <th>Close</th>\n",
       "      <th>up</th>\n",
       "      <th>down</th>\n",
       "      <th>rsi</th>\n",
       "    </tr>\n",
       "    <tr>\n",
       "      <th>Date</th>\n",
       "      <th></th>\n",
       "      <th></th>\n",
       "      <th></th>\n",
       "      <th></th>\n",
       "    </tr>\n",
       "  </thead>\n",
       "  <tbody>\n",
       "    <tr>\n",
       "      <th>2017-01-02</th>\n",
       "      <td>97761</td>\n",
       "      <td>NaN</td>\n",
       "      <td>NaN</td>\n",
       "      <td>NaN</td>\n",
       "    </tr>\n",
       "    <tr>\n",
       "      <th>2017-01-03</th>\n",
       "      <td>96316</td>\n",
       "      <td>0.000000</td>\n",
       "      <td>-0.014781</td>\n",
       "      <td>NaN</td>\n",
       "    </tr>\n",
       "    <tr>\n",
       "      <th>2017-01-04</th>\n",
       "      <td>95864</td>\n",
       "      <td>0.000000</td>\n",
       "      <td>-0.004693</td>\n",
       "      <td>NaN</td>\n",
       "    </tr>\n",
       "    <tr>\n",
       "      <th>2017-01-05</th>\n",
       "      <td>96135</td>\n",
       "      <td>0.002827</td>\n",
       "      <td>0.000000</td>\n",
       "      <td>NaN</td>\n",
       "    </tr>\n",
       "    <tr>\n",
       "      <th>2017-01-06</th>\n",
       "      <td>95142</td>\n",
       "      <td>0.000000</td>\n",
       "      <td>-0.010329</td>\n",
       "      <td>NaN</td>\n",
       "    </tr>\n",
       "    <tr>\n",
       "      <th>...</th>\n",
       "      <td>...</td>\n",
       "      <td>...</td>\n",
       "      <td>...</td>\n",
       "      <td>...</td>\n",
       "    </tr>\n",
       "    <tr>\n",
       "      <th>2023-02-22</th>\n",
       "      <td>149000</td>\n",
       "      <td>0.000000</td>\n",
       "      <td>-0.037468</td>\n",
       "      <td>-0.397303</td>\n",
       "    </tr>\n",
       "    <tr>\n",
       "      <th>2023-02-23</th>\n",
       "      <td>149000</td>\n",
       "      <td>0.000000</td>\n",
       "      <td>0.000000</td>\n",
       "      <td>-0.279770</td>\n",
       "    </tr>\n",
       "    <tr>\n",
       "      <th>2023-02-24</th>\n",
       "      <td>149300</td>\n",
       "      <td>0.002013</td>\n",
       "      <td>0.000000</td>\n",
       "      <td>-0.487894</td>\n",
       "    </tr>\n",
       "    <tr>\n",
       "      <th>2023-02-27</th>\n",
       "      <td>146000</td>\n",
       "      <td>0.000000</td>\n",
       "      <td>-0.022103</td>\n",
       "      <td>-0.028132</td>\n",
       "    </tr>\n",
       "    <tr>\n",
       "      <th>2023-02-28</th>\n",
       "      <td>145200</td>\n",
       "      <td>0.000000</td>\n",
       "      <td>-0.005479</td>\n",
       "      <td>-0.031940</td>\n",
       "    </tr>\n",
       "  </tbody>\n",
       "</table>\n",
       "<p>1515 rows × 4 columns</p>\n",
       "</div>"
      ],
      "text/plain": [
       "             Close        up      down       rsi\n",
       "Date                                            \n",
       "2017-01-02   97761       NaN       NaN       NaN\n",
       "2017-01-03   96316  0.000000 -0.014781       NaN\n",
       "2017-01-04   95864  0.000000 -0.004693       NaN\n",
       "2017-01-05   96135  0.002827  0.000000       NaN\n",
       "2017-01-06   95142  0.000000 -0.010329       NaN\n",
       "...            ...       ...       ...       ...\n",
       "2023-02-22  149000  0.000000 -0.037468 -0.397303\n",
       "2023-02-23  149000  0.000000  0.000000 -0.279770\n",
       "2023-02-24  149300  0.002013  0.000000 -0.487894\n",
       "2023-02-27  146000  0.000000 -0.022103 -0.028132\n",
       "2023-02-28  145200  0.000000 -0.005479 -0.031940\n",
       "\n",
       "[1515 rows x 4 columns]"
      ]
     },
     "execution_count": 72,
     "metadata": {},
     "output_type": "execute_result"
    }
   ],
   "source": [
    "tmp = df[['Close']].copy()\n",
    "pct_change = tmp.pct_change()['Close']\n",
    "\n",
    "tmp['up'] = pct_change\n",
    "tmp['down'] = pct_change\n",
    "tmp['up'] = tmp['up'].apply(lambda x: 0 if x < 0 else x)\n",
    "tmp['down'] = tmp['down'].apply(lambda x: 0 if x > 0 else x)\n",
    "\n",
    "n = 5\n",
    "AU = tmp['up'].rolling(window=n).mean().dropna()\n",
    "AD = tmp['down'].rolling(window=n).mean().dropna()\n",
    "\n",
    "# tmp.dropna(inplace=True)\n",
    "\n",
    "tmp['rsi'] = AU / (AU + AD)\n",
    "tmp"
   ]
  },
  {
   "cell_type": "code",
   "execution_count": 74,
   "id": "69546682",
   "metadata": {
    "ExecuteTime": {
     "end_time": "2023-03-01T07:23:23.958392Z",
     "start_time": "2023-03-01T07:23:23.947174Z"
    }
   },
   "outputs": [
    {
     "data": {
      "text/plain": [
       "rsi    1.458546\n",
       "dtype: float64"
      ]
     },
     "execution_count": 74,
     "metadata": {},
     "output_type": "execute_result"
    }
   ],
   "source": [
    "tmp[['rsi']].mean()"
   ]
  },
  {
   "cell_type": "code",
   "execution_count": 75,
   "id": "647dfd6a",
   "metadata": {
    "ExecuteTime": {
     "end_time": "2023-03-01T07:23:27.835954Z",
     "start_time": "2023-03-01T07:23:27.602226Z"
    }
   },
   "outputs": [
    {
     "data": {
      "text/plain": [
       "[<matplotlib.lines.Line2D at 0x2699cd72f70>]"
      ]
     },
     "execution_count": 75,
     "metadata": {},
     "output_type": "execute_result"
    },
    {
     "data": {
      "image/png": "[encoded data removed]",
      "text/plain": [
       "<Figure size 1000x1000 with 2 Axes>"
      ]
     },
     "metadata": {},
     "output_type": "display_data"
    }
   ],
   "source": [
    "fig, axes = plt.subplots(2, 1, figsize=(10, 10))\n",
    "\n",
    "axes[0].plot(tmp[['Close']])\n",
    "axes[1].plot(tmp[['rsi']])"
   ]
  },
  {
   "cell_type": "code",
   "execution_count": null,
   "id": "fe2f02da",
   "metadata": {},
   "outputs": [],
   "source": []
  },
  {
   "cell_type": "code",
   "execution_count": null,
   "id": "6dfcb8c0",
   "metadata": {},
   "outputs": [],
   "source": []
  },
  {
   "cell_type": "code",
   "execution_count": null,
   "id": "20262af9",
   "metadata": {},
   "outputs": [],
   "source": []
  },
  {
   "cell_type": "code",
   "execution_count": null,
   "id": "c7b975f5",
   "metadata": {},
   "outputs": [],
   "source": []
  },
  {
   "cell_type": "code",
   "execution_count": null,
   "id": "57eea12e",
   "metadata": {},
   "outputs": [],
   "source": []
  },
  {
   "cell_type": "code",
   "execution_count": null,
   "id": "91565b8d",
   "metadata": {},
   "outputs": [],
   "source": []
  },
  {
   "cell_type": "code",
   "execution_count": null,
   "id": "a65d6864",
   "metadata": {},
   "outputs": [],
   "source": []
  },
  {
   "cell_type": "markdown",
   "id": "ed20de4e",
   "metadata": {},
   "source": [
    "# 백테스팅"
   ]
  },
  {
   "cell_type": "markdown",
   "id": "b5d2f65f",
   "metadata": {},
   "source": [
    "## universe : all stocks in kospi market"
   ]
  },
  {
   "cell_type": "code",
   "execution_count": 1,
   "id": "673142b0",
   "metadata": {
    "ExecuteTime": {
     "end_time": "2023-03-01T02:42:18.404297Z",
     "start_time": "2023-03-01T02:42:16.431015Z"
    }
   },
   "outputs": [],
   "source": [
    "import FinanceDataReader as fdr\n",
    "import pandas as pd\n",
    "\n",
    "df_krx = fdr.StockListing('KRX')\n",
    "kospi_codes = df_krx[df_krx['Market'] == 'KOSPI']['Code']"
   ]
  },
  {
   "cell_type": "code",
   "execution_count": 2,
   "id": "eb47e8af",
   "metadata": {
    "ExecuteTime": {
     "end_time": "2023-03-01T02:42:23.439211Z",
     "start_time": "2023-03-01T02:42:23.423209Z"
    }
   },
   "outputs": [
    {
     "data": {
      "text/plain": [
       "0       005930\n",
       "1       373220\n",
       "2       000660\n",
       "3       207940\n",
       "4       051910\n",
       "         ...  \n",
       "2683    002785\n",
       "2686    001527\n",
       "2687    001525\n",
       "2689    002787\n",
       "2693    000547\n",
       "Name: Code, Length: 943, dtype: object"
      ]
     },
     "execution_count": 2,
     "metadata": {},
     "output_type": "execute_result"
    }
   ],
   "source": [
    "kospi_codes"
   ]
  },
  {
   "cell_type": "markdown",
   "id": "d1c3a317",
   "metadata": {},
   "source": [
    "# 논문 읽고 정리"
   ]
  },
  {
   "cell_type": "code",
   "execution_count": null,
   "id": "425cb0ba",
   "metadata": {},
   "outputs": [],
   "source": []
  }
 ],
 "metadata": {
  "hide_input": false,
  "kernelspec": {
   "display_name": "quant_39",
   "language": "python",
   "name": "quant_39"
  },
  "language_info": {
   "codemirror_mode": {
    "name": "ipython",
    "version": 3
   },
   "file_extension": ".py",
   "mimetype": "text/x-python",
   "name": "python",
   "nbconvert_exporter": "python",
   "pygments_lexer": "ipython3",
   "version": "3.9.13"
  },
  "toc": {
   "base_numbering": 1,
   "nav_menu": {},
   "number_sections": true,
   "sideBar": true,
   "skip_h1_title": false,
   "title_cell": "Table of Contents",
   "title_sidebar": "Contents",
   "toc_cell": false,
   "toc_position": {},
   "toc_section_display": true,
   "toc_window_display": false
  }
 },
 "nbformat": 4,
 "nbformat_minor": 5
}
